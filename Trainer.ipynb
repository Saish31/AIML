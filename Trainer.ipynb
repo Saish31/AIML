{
  "cells": [
    {
      "cell_type": "markdown",
      "metadata": {
        "id": "view-in-github",
        "colab_type": "text"
      },
      "source": [
        "<a href=\"https://colab.research.google.com/github/Saish31/AIML/blob/main/Trainer.ipynb\" target=\"_parent\"><img src=\"https://colab.research.google.com/assets/colab-badge.svg\" alt=\"Open In Colab\"/></a>"
      ]
    },
    {
      "cell_type": "code",
      "execution_count": 1,
      "id": "da167ddb",
      "metadata": {
        "id": "da167ddb"
      },
      "outputs": [],
      "source": [
        "from transformer import Transformer # this is the transformer.py file\n",
        "import torch\n",
        "import numpy as np"
      ]
    },
    {
      "cell_type": "code",
      "execution_count": 2,
      "id": "eea363dc",
      "metadata": {
        "id": "eea363dc"
      },
      "outputs": [],
      "source": [
        "english_file = 'train.en'\n",
        "hindi_file = 'train.hi'\n",
        "\n",
        "# Generated this by filtering Appendix code\n",
        "\n",
        "START_TOKEN   = '<START>'\n",
        "PADDING_TOKEN = '<PAD>'\n",
        "END_TOKEN     = '<END>'\n",
        "\n",
        "hindi_vocabulary = [\n",
        "    START_TOKEN,\n",
        "    ' ', '!', '\"', '#', '$', '%', '&', \"'\", '(', ')', '*', '+', ',', '-', '.', '/',\n",
        "    '0', '1', '2', '3', '4', '5', '6', '7', '8', '9',\n",
        "    ':', '<', '=', '>', '?', '@',\n",
        "    '[', '\\\\', ']', '^', '_', '`',\n",
        "    'ँ', 'ं', 'ः', 'ऽ', 'ॐ',\n",
        "    'अ', 'आ', 'इ', 'ई', 'उ', 'ऊ', 'ऋ', 'ॠ', 'ऌ', 'ए', 'ऐ', 'ओ', 'औ',\n",
        "    '्', 'ा', 'ि', 'ी', 'ु', 'ू', 'ृ', 'ॄ', 'ॅ', 'े', 'ै', 'ॉ', 'ो', 'ौ',\n",
        "    'क', 'ख', 'ग', 'घ', 'ङ',\n",
        "    'च', 'छ', 'ज', 'झ', 'ञ',\n",
        "    'ट', 'ठ', 'ड', 'ढ', 'ण',\n",
        "    'त', 'थ', 'द', 'ध', 'न',\n",
        "    'प', 'फ', 'ब', 'भ', 'म',\n",
        "    'य', 'र', 'ल', 'व', 'श', 'ष', 'स', 'ह',\n",
        "    '०', '१', '२', '३', '४', '५', '६', '७', '८', '९',\n",
        "    '{', '|', '}', '~',\n",
        "    PADDING_TOKEN,\n",
        "    END_TOKEN\n",
        "]\n",
        "\n",
        "english_vocabulary = [\n",
        "    START_TOKEN,\n",
        "    ' ', '!', '\"', '#', '$', '%', '&', \"'\", '(', ')', '*', '+', ',', '-', '.', '/',\n",
        "    '0', '1', '2', '3', '4', '5', '6', '7', '8', '9',\n",
        "    ':', '<', '=', '>', '?', '@',\n",
        "    '[', '\\\\', ']', '^', '_', '`',\n",
        "    'a', 'b', 'c', 'd', 'e', 'f', 'g', 'h', 'i', 'j', 'k', 'l',\n",
        "    'm', 'n', 'o', 'p', 'q', 'r', 's', 't', 'u', 'v', 'w', 'x',\n",
        "    'y', 'z',\n",
        "    '{', '|', '}', '~',\n",
        "    PADDING_TOKEN,\n",
        "    END_TOKEN\n",
        "]\n"
      ]
    },
    {
      "cell_type": "code",
      "execution_count": 3,
      "id": "91047a96",
      "metadata": {
        "id": "91047a96"
      },
      "outputs": [],
      "source": [
        "index_to_hindi = {k:v for k,v in enumerate(hindi_vocabulary)}\n",
        "hindi_to_index = {v:k for k,v in enumerate(hindi_vocabulary)}\n",
        "index_to_english = {k:v for k,v in enumerate(english_vocabulary)}\n",
        "english_to_index = {v:k for k,v in enumerate(english_vocabulary)}"
      ]
    },
    {
      "cell_type": "code",
      "execution_count": 5,
      "id": "dc0a8283",
      "metadata": {
        "id": "dc0a8283"
      },
      "outputs": [],
      "source": [
        "with open(english_file, 'r') as file:\n",
        "    english_sentences = file.readlines()\n",
        "with open(hindi_file, 'r') as file:\n",
        "    hindi_sentences = file.readlines()\n",
        "\n",
        "# Limit Number of sentences\n",
        "TOTAL_SENTENCES = 200000\n",
        "english_sentences = english_sentences[:TOTAL_SENTENCES]\n",
        "hindi_sentences = hindi_sentences[:TOTAL_SENTENCES]\n",
        "english_sentences = [sentence.rstrip('\\n').lower() for sentence in english_sentences]\n",
        "hindi_sentences = [sentence.rstrip('\\n') for sentence in hindi_sentences]"
      ]
    },
    {
      "cell_type": "code",
      "execution_count": 6,
      "id": "347ce83c",
      "metadata": {
        "colab": {
          "base_uri": "https://localhost:8080/"
        },
        "id": "347ce83c",
        "outputId": "899c07f3-0c29-49fa-dc1f-39802ecfce07"
      },
      "outputs": [
        {
          "output_type": "execute_result",
          "data": {
            "text/plain": [
              "['in reply, pakistan got off to a solid start.',\n",
              " 'the european union has seven principal decision-making bodies, its institutions: the european parliament, the european council, the council of the european union, the european commission, the court of justice of the european union, the european central bank and the european court of auditors.',\n",
              " 'the congress leader represents sivaganga lok sabha segment from tamil nadu.',\n",
              " 'prompt the user about connection attempts',\n",
              " 'further, the minister announced that deposit insurance and credit guarantee corporation (dicgc) has been permitted to increase deposit insurance coverage to rs.',\n",
              " 'therefore, brothers, be more diligent to make your calling and election sure. for if you do these things, you will never stumble.',\n",
              " 'the review committee meeting chaired by the district judges will be attended by collectors, sps, superintendents of jails and secretary of district legal services authority.',\n",
              " 'police is present on the spot.',\n",
              " 'prime minister narendra modi is slated to campaign for bjp in second phase of assembly elections in udhampur and poonch district of jammu and kashmir tomorrow',\n",
              " 'it has a battery backup of 3050mah.']"
            ]
          },
          "metadata": {},
          "execution_count": 6
        }
      ],
      "source": [
        "english_sentences[:10]"
      ]
    },
    {
      "cell_type": "code",
      "execution_count": 7,
      "id": "62a8cd46",
      "metadata": {
        "colab": {
          "base_uri": "https://localhost:8080/"
        },
        "id": "62a8cd46",
        "outputId": "e6626799-76b7-4baf-baaa-2904b7823d77"
      },
      "outputs": [
        {
          "output_type": "execute_result",
          "data": {
            "text/plain": [
              "['जिसके जवाब में पाक ने अच्छी शुरुआत की थी.',\n",
              " 'यूरोपीय संघ के महत्वपूर्ण संस्थानों में यूरोपियन कमीशन, यूरोपीय संसद, यूरोपीय संघ परिषद, यूरोपीय न्यायलय एवं यूरोपियन सेंट्रल बैंक इत्यादि शामिल हैं।',\n",
              " 'कांग्रेस नेता तमिलनाडु से शिवगंगा लोकसभा क्षेत्र का प्रतिनिधित्व करते हैं.',\n",
              " 'संबंधन प्रयास के बारे में उपयोक्ता को प्रांप्ट करें',\n",
              " 'वित्त मंत्री ने घोषणा कि जमा बीमा और ऋण गारंटी निगम (डीआईसीजीसी) को जमा राशि बीमा का दायरा, जो इस समय 1 लाख रुपये है उसे बढ़ाकर प्रति जमाकर्ता 5 लाख रुपये करने की अनुमति प्रदान कर दी गई है।',\n",
              " 'इस कारण हे भाइयों, अपने बुलाए जाने, और चुन लिये जाने को सिद्ध करने का भली भांति यत्न करते जाओ, क्योंकि यदि ऐसा करोगे, तो कभी भी ठोकर न खाओगे।',\n",
              " 'समिति में जिला एवं सत्र न्यायाधीश, कलेक्टर, पुलिस अधीक्षक व जिला विधिक सेवा प्राधिकरण के सचिव शामिल रहते हैं।',\n",
              " 'पुलिस मौके पर मौजूद है।',\n",
              " 'जम्मू एवं कश्मीर विधानसभा के लिए दूसरे चरण के तहत होने वाले मतदान के लिए प्रधानमंत्री नरेंद्र मोदी भारतीय जनता पार्टी (भाजपा) के पक्ष में शुक्रवार को यहां रैलियां करेंगे।',\n",
              " 'और 3050एमएएच की दमदार बैटरी से लैस है।']"
            ]
          },
          "metadata": {},
          "execution_count": 7
        }
      ],
      "source": [
        "hindi_sentences[:10]"
      ]
    },
    {
      "cell_type": "code",
      "execution_count": 8,
      "id": "4582611e",
      "metadata": {
        "colab": {
          "base_uri": "https://localhost:8080/"
        },
        "id": "4582611e",
        "outputId": "bf99a0ca-672b-4b2f-c6fd-2ac967c89b5b"
      },
      "outputs": [
        {
          "output_type": "stream",
          "name": "stdout",
          "text": [
            "97th percentile length Hindi: 259.0\n",
            "97th percentile length English: 267.0\n"
          ]
        }
      ],
      "source": [
        "import numpy as np\n",
        "PERCENTILE = 97\n",
        "print( f\"{PERCENTILE}th percentile length Hindi: {np.percentile([len(x) for x in hindi_sentences], PERCENTILE)}\" )\n",
        "print( f\"{PERCENTILE}th percentile length English: {np.percentile([len(x) for x in english_sentences], PERCENTILE)}\" )"
      ]
    },
    {
      "cell_type": "code",
      "execution_count": 9,
      "id": "49bda940",
      "metadata": {
        "colab": {
          "base_uri": "https://localhost:8080/"
        },
        "id": "49bda940",
        "outputId": "34c9526e-515b-4a3a-b591-60e15da28c41"
      },
      "outputs": [
        {
          "output_type": "stream",
          "name": "stdout",
          "text": [
            "Number of sentences: 109299\n",
            "Number of valid sentences: 24596\n"
          ]
        }
      ],
      "source": [
        "max_sequence_length = 200\n",
        "\n",
        "def is_valid_tokens(sentence, vocab):\n",
        "    for token in list(set(sentence)):\n",
        "        if token not in vocab:\n",
        "            return False\n",
        "    return True\n",
        "\n",
        "def is_valid_length(sentence, max_sequence_length):\n",
        "    return len(list(sentence)) < (max_sequence_length - 1) # need to re-add the end token so leaving 1 space\n",
        "\n",
        "valid_sentence_indicies = []\n",
        "for index in range(len(hindi_sentences)):\n",
        "    hindi_sentence, english_sentence = hindi_sentences[index], english_sentences[index]\n",
        "    if is_valid_length(hindi_sentence, max_sequence_length) \\\n",
        "      and is_valid_length(english_sentence, max_sequence_length) \\\n",
        "      and is_valid_tokens(hindi_sentence, hindi_vocabulary):\n",
        "        valid_sentence_indicies.append(index)\n",
        "\n",
        "print(f\"Number of sentences: {len(hindi_sentences)}\")\n",
        "print(f\"Number of valid sentences: {len(valid_sentence_indicies)}\")"
      ]
    },
    {
      "cell_type": "code",
      "execution_count": 10,
      "id": "cf7accb6",
      "metadata": {
        "id": "cf7accb6"
      },
      "outputs": [],
      "source": [
        "hindi_sentences = [hindi_sentences[i] for i in valid_sentence_indicies]\n",
        "english_sentences = [english_sentences[i] for i in valid_sentence_indicies]"
      ]
    },
    {
      "cell_type": "code",
      "execution_count": 11,
      "id": "2dfaf0e7",
      "metadata": {
        "colab": {
          "base_uri": "https://localhost:8080/"
        },
        "id": "2dfaf0e7",
        "outputId": "05817056-589b-4ba0-c6ee-4a8f16e66401"
      },
      "outputs": [
        {
          "output_type": "execute_result",
          "data": {
            "text/plain": [
              "['जिसके जवाब में पाक ने अच्छी शुरुआत की थी.',\n",
              " 'कांग्रेस नेता तमिलनाडु से शिवगंगा लोकसभा क्षेत्र का प्रतिनिधित्व करते हैं.',\n",
              " 'संबंधन प्रयास के बारे में उपयोक्ता को प्रांप्ट करें']"
            ]
          },
          "metadata": {},
          "execution_count": 11
        }
      ],
      "source": [
        "hindi_sentences[:3]"
      ]
    },
    {
      "cell_type": "code",
      "execution_count": 12,
      "id": "25ab7b82",
      "metadata": {
        "id": "25ab7b82"
      },
      "outputs": [],
      "source": [
        "import torch\n",
        "\n",
        "d_model = 512     # Embedding dimension\n",
        "batch_size = 30     # Number of sentence pairs per training batch\n",
        "ffn_hidden = 2048   # Inner-layer dimension of each Transformer feed-forward block\n",
        "num_heads = 8       # Number of attention heads in each multi-head attention layer\n",
        "drop_prob = 0.1      # Dropout probability applied after attention & in FFN\n",
        "num_layers = 1      # Number of stacked encoder & decoder layers(can increase for better translation but it will take even longer for training)\n",
        "max_sequence_length = 200   # Maximum sequence length the model can handle\n",
        "hi_vocab_size = len(hindi_vocabulary)\n",
        "\n",
        "transformer = Transformer(d_model,\n",
        "                          ffn_hidden,\n",
        "                          num_heads,\n",
        "                          drop_prob,\n",
        "                          num_layers,\n",
        "                          max_sequence_length,\n",
        "                          hi_vocab_size,\n",
        "                          english_to_index,\n",
        "                          hindi_to_index,\n",
        "                          START_TOKEN,\n",
        "                          END_TOKEN,\n",
        "                          PADDING_TOKEN)"
      ]
    },
    {
      "cell_type": "code",
      "execution_count": 13,
      "id": "14a06169",
      "metadata": {
        "colab": {
          "base_uri": "https://localhost:8080/"
        },
        "id": "14a06169",
        "outputId": "82b36ba1-7c9c-49d2-b84b-3eff9450d97a"
      },
      "outputs": [
        {
          "output_type": "execute_result",
          "data": {
            "text/plain": [
              "Transformer(\n",
              "  (encoder): Encoder(\n",
              "    (sentence_embedding): SentenceEmbedding(\n",
              "      (embedding): Embedding(71, 512)\n",
              "      (position_encoder): PositionalEncoding()\n",
              "      (dropout): Dropout(p=0.1, inplace=False)\n",
              "    )\n",
              "    (layers): SequentialEncoder(\n",
              "      (0): EncoderLayer(\n",
              "        (attention): MultiHeadAttention(\n",
              "          (qkv_layer): Linear(in_features=512, out_features=1536, bias=True)\n",
              "          (linear_layer): Linear(in_features=512, out_features=512, bias=True)\n",
              "        )\n",
              "        (norm1): LayerNormalization()\n",
              "        (dropout1): Dropout(p=0.1, inplace=False)\n",
              "        (ffn): PositionwiseFeedForward(\n",
              "          (linear1): Linear(in_features=512, out_features=2048, bias=True)\n",
              "          (linear2): Linear(in_features=2048, out_features=512, bias=True)\n",
              "          (relu): ReLU()\n",
              "          (dropout): Dropout(p=0.1, inplace=False)\n",
              "        )\n",
              "        (norm2): LayerNormalization()\n",
              "        (dropout2): Dropout(p=0.1, inplace=False)\n",
              "      )\n",
              "    )\n",
              "  )\n",
              "  (decoder): Decoder(\n",
              "    (sentence_embedding): SentenceEmbedding(\n",
              "      (embedding): Embedding(120, 512)\n",
              "      (position_encoder): PositionalEncoding()\n",
              "      (dropout): Dropout(p=0.1, inplace=False)\n",
              "    )\n",
              "    (layers): SequentialDecoder(\n",
              "      (0): DecoderLayer(\n",
              "        (self_attention): MultiHeadAttention(\n",
              "          (qkv_layer): Linear(in_features=512, out_features=1536, bias=True)\n",
              "          (linear_layer): Linear(in_features=512, out_features=512, bias=True)\n",
              "        )\n",
              "        (layer_norm1): LayerNormalization()\n",
              "        (dropout1): Dropout(p=0.1, inplace=False)\n",
              "        (encoder_decoder_attention): MultiHeadCrossAttention(\n",
              "          (kv_layer): Linear(in_features=512, out_features=1024, bias=True)\n",
              "          (q_layer): Linear(in_features=512, out_features=512, bias=True)\n",
              "          (linear_layer): Linear(in_features=512, out_features=512, bias=True)\n",
              "        )\n",
              "        (layer_norm2): LayerNormalization()\n",
              "        (dropout2): Dropout(p=0.1, inplace=False)\n",
              "        (ffn): PositionwiseFeedForward(\n",
              "          (linear1): Linear(in_features=512, out_features=2048, bias=True)\n",
              "          (linear2): Linear(in_features=2048, out_features=512, bias=True)\n",
              "          (relu): ReLU()\n",
              "          (dropout): Dropout(p=0.1, inplace=False)\n",
              "        )\n",
              "        (layer_norm3): LayerNormalization()\n",
              "        (dropout3): Dropout(p=0.1, inplace=False)\n",
              "      )\n",
              "    )\n",
              "  )\n",
              "  (linear): Linear(in_features=512, out_features=120, bias=True)\n",
              ")"
            ]
          },
          "metadata": {},
          "execution_count": 13
        }
      ],
      "source": [
        "transformer"
      ]
    },
    {
      "cell_type": "code",
      "execution_count": 14,
      "id": "eee8a0ac",
      "metadata": {
        "id": "eee8a0ac"
      },
      "outputs": [],
      "source": [
        "from torch.utils.data import Dataset, DataLoader\n",
        "\n",
        "class TextDataset(Dataset):\n",
        "\n",
        "    def __init__(self, english_sentences, hindi_sentences):\n",
        "        self.english_sentences = english_sentences\n",
        "        self.hindi_sentences = hindi_sentences\n",
        "\n",
        "    def __len__(self):\n",
        "        return len(self.english_sentences)\n",
        "\n",
        "    def __getitem__(self, idx):\n",
        "        return self.english_sentences[idx], self.hindi_sentences[idx]"
      ]
    },
    {
      "cell_type": "code",
      "execution_count": 15,
      "id": "884b7828",
      "metadata": {
        "id": "884b7828"
      },
      "outputs": [],
      "source": [
        "dataset = TextDataset(english_sentences, hindi_sentences)"
      ]
    },
    {
      "cell_type": "code",
      "execution_count": 16,
      "id": "2b04e31c",
      "metadata": {
        "colab": {
          "base_uri": "https://localhost:8080/"
        },
        "id": "2b04e31c",
        "outputId": "6de236bf-495e-45f1-b108-1001fd37bcc2"
      },
      "outputs": [
        {
          "output_type": "execute_result",
          "data": {
            "text/plain": [
              "24596"
            ]
          },
          "metadata": {},
          "execution_count": 16
        }
      ],
      "source": [
        "len(dataset)"
      ]
    },
    {
      "cell_type": "code",
      "execution_count": 17,
      "id": "5ed32a86",
      "metadata": {
        "colab": {
          "base_uri": "https://localhost:8080/"
        },
        "id": "5ed32a86",
        "outputId": "31b76745-a997-44c9-92a6-bc7fc131133a"
      },
      "outputs": [
        {
          "output_type": "execute_result",
          "data": {
            "text/plain": [
              "('the congress leader represents sivaganga lok sabha segment from tamil nadu.',\n",
              " 'कांग्रेस नेता तमिलनाडु से शिवगंगा लोकसभा क्षेत्र का प्रतिनिधित्व करते हैं.')"
            ]
          },
          "metadata": {},
          "execution_count": 17
        }
      ],
      "source": [
        "dataset[1]"
      ]
    },
    {
      "cell_type": "code",
      "execution_count": 18,
      "id": "f123b320",
      "metadata": {
        "id": "f123b320"
      },
      "outputs": [],
      "source": [
        "train_loader = DataLoader(dataset, batch_size)\n",
        "iterator = iter(train_loader)"
      ]
    },
    {
      "cell_type": "code",
      "execution_count": 19,
      "id": "40c3140a",
      "metadata": {
        "colab": {
          "base_uri": "https://localhost:8080/"
        },
        "id": "40c3140a",
        "outputId": "1b7b3120-6e15-4e50-98a7-e9d4aae6e8af"
      },
      "outputs": [
        {
          "output_type": "stream",
          "name": "stdout",
          "text": [
            "[('in reply, pakistan got off to a solid start.', 'the congress leader represents sivaganga lok sabha segment from tamil nadu.', 'prompt the user about connection attempts', 'all 176 passengers died in the incident.', 'not invited', 'coconut oil and lemon juice pack:', 'new delhi, 14th may, 2010', 'algeria military plane crash', 'up and down', 'probably a lot of you know the story of the two salesmen who went down to africa in the 1900s.', 'zenan, and hadashah, and migdal-gad,', 'but all was not over.', 'what is jcpoa?', 'this, in a way, is one of the challenges of how to interpret a really good idea.', 'director: shyam benegal', 'obtain loans from a bank or an individual.', 'are doing.', 'he is at present lodged in a prison in london.', 'in both conditions your doctor can prescribe you some analgesics or other medicines, or he can refer you to another specialist or surgeon.', 'fcra comes into force w.e.f may 2011', 'quality time', \"you don 't say?\", 'what would we do without sugar?', 'woman dies during childbirth', 'the meeting was also attended by six shiv sena ministers.', 'thereafter, his condition began to deteriorate.', 'her family and relatives were informed about the incident.', 'in this movie, she was seen along with sushant singh rajput.', 'everything else is an excuse.', 'if you pull a knife, you have to use ii.'), ('जिसके जवाब में पाक ने अच्छी शुरुआत की थी.', 'कांग्रेस नेता तमिलनाडु से शिवगंगा लोकसभा क्षेत्र का प्रतिनिधित्व करते हैं.', 'संबंधन प्रयास के बारे में उपयोक्ता को प्रांप्ट करें', 'इस विमान हादसे में सभी 176 यात्रियों की मौत हो गई थी.', 'आमंत्रित नहीं किया', 'नारियल तेल और नींबू का रस:', 'नई दिल्ली, 14 मई, 2010', 'अल्जीरिया में एक सैन्य विमान दुर्घटनाग्रस्त', 'ऊपर-नीचे', 'शायद आपमें से कई लोग दो विक्रेताओं (सेल्समेन) की कहानी जानते हैं जो १९०० सदी में अफ्रीका गए.', 'फिर सनान, हदाशा, मिगदलगाद,', 'लेकिन पूरी तरह से खत्म नहीं हुई.', 'क्या है जेसीपीओए?', 'यह एक प्रकार की चुनौती है कि किस प्रकार एक अच्छे विचार का विवेचन करें.', 'पटकथा : श्याम बेनेगल', 'किसी बैंक या व्यक्ति से ऋण प्राप्त कर सकती है.', 'कर रहे हैं.', 'ऐसे में उसे अभी लंदन की जेल में दिन गुजरने होंगे.', 'इन दोनों अवस्थाओं में आराम पहुंचाने के लिये आपका डाक्टर आप को दर्द नाशक अन्य दवाईयों का नुस्खा लिख कर दे सकता है या सर्जन या अन्य विशेषग्य से आप की सहायता करने को कह सकता है.', 'मई 2011 से एफसीआरए प्रभावी', 'क्वॉलिटी टाइम', 'क्या कहा!', 'चीनी के बिना आप क्या करेंगे?', 'महिला की प्रसव से पहले मौत', 'बैठक में शीला कैबिनेट के सभी छह मंत्री मौजूद थे.', 'इसके बाद उनकी स्थिति में सुधार आने लगा था.', 'साथ ही परिजनों और रिश्तेदारों को घटना की सूचना दे दी है.', 'फिल्म में उनके अपोजिट सुशांत सिंह राजपूत नजर आए थे.', 'बाकी सब बहाने हैं.', 'यदि चाकू निकाले, तो इस्तेमाल करना होगा.')]\n",
            "[('satellite image shows china is building a dam on the galwan river', 'but you box like one.', 'the minister informed that millets include jowar, bajra, ragi, little millets include kutki, kodo, sawa, kangni and cheena', 'india beat afghanistan by 11 runs', 'to update the mobile number', 'the minister said this', 'after this, he was removed.', 'the police is investigating his death.', 'this was the first meeting between the two leaders.', \"don't you fight with your brother?\", 'pm modi on violent protests', 'double stack long haul container train operation', 'in the present case, no such hint is at hand.', \"doctor's wives spread breast cancer awareness\", \"pm modi's advice\", 'following section 80pa shall be inserted after section 80p by the finance act, 2018, w.e.f. 1-4-2019 :', 'they do everything...', 'we have never favoured corruption.', 'paytm refutes report on chinas ant group considering stake sale', '\"he was the youngest child to achieve the record.\"\"\"', 'user interface', 'at the top of the board area, choose the numbers and arithmetic operators that give the specified result. you can deselect a number or operator by clicking on it again.', '( see bound volume) [ pictures on page 16, 17]', 'national policy on resettlement & rehabilitation', 'the city beautiful', 'deserves promotion', \"his father wasn't on the set.\", 'the two-day long preparatory meeting of the shanghai cooperation organization joint exercise on urban earthquake search & rescue- 2019 began here today', 'so, what did he do?', 'submerged - arc welded (saw) pipes: -'), ('सैटेलाइट इमेज से पता चलता है कि चीन गलवान नदी पर बांध बना रहा है', 'एक तरह लेकिन आप बॉक्स.', 'राजस्थान, उत्तराखंड, महाराष्ट्र, अंडमान और निकोबार दीप समूह, असम, त्रिपुरा', 'रोमांचक मुकाबले में भारत ने अफगानिस्तान को 11 रन से हराया', 'मोबाइल नंबर अपडेट करवाने के लिए', 'यह कहा था मंत्री ने', 'इसके बाद उन्होंने उसे निर्वस्त्र कर दिया.', 'उनकी हत्या के मामले की पुलिस जांच चल रही है.', 'दोनों नेताओं की यह पहली द्विपक्षीय मुलाकात थी.', 'तुम्हारे भाई से तुम्हारी बनती नहीं है क्या?', 'हिंसक विरोध प्रदर्शन पर पीएम मोदी का ट्वीट', 'डबल स्टैक लॉन्ग हॉल कंटेनर ट्रेन का परिचालन', 'वर्तमान मामले में ऐसा कोई शपथपत्र नहीं है.', 'स्तन कैंसर को लेकर जागरुकता फैलाने के लिए जुटे चिकित्सक विशेषज्ञ', 'पीएम मोदी ने दिया ये सुझाव', 'वित्त अधिनियम, 2018 द्वारा 1.4.2019 से धारा 80त के पश्चात् धारा 80तक अंतःस्थापित की जाएगीः', 'उन्होंने वह सब कुछ किया है जो क .', '\"उन्होंने कहा, \"\"हमने भ्रष्टाचार को कतई बर्दाश्त नहीं किया है.\"', 'पेटीएम ने चीनी एंट समूह की हिस्सेदारी बिक्री की खबरों का खंडन किया', \"वह यह रिकॉर्ड अपने नाम करने वाला सबसे छोटा बच्चा है''.\", 'उपयोगकर्ता इंटरफेस', 'बोर्डपर, विशिष्ट जवाब आने के लिये बीजगणितीय चिन्ह और संख्या चुने. इस संख्या के उपर दोबारा क्लीक कर के आप इसे हटा सकते है.', '[ पेज 16, 17 पर तसवीर]', 'राष्ट्री य पुनःस्था & पना और पुनर्वास नीति', 'नगर की सुंदरता', 'पदोन्नति पाने योग्य', 'उसके पिता उसके साथ नहीं थे |', '\"\"\"\"\"\"\"शंघाई सहयोग संगठन शहरी भूकंप खोज और बचाव-2019 पर संयुक्त अभ्यास\"\"\"\" की प्रारंभिक बैठक नई दिल्ली में आज शुरू हुई\"\"\"', 'खैर, यह तो बताएं उसने क्या किया?', 'निमज्जित आर्क वेल्ड पाइप:-')]\n",
            "[('india beat england by...', 'ministry of drinking water & sanitation', 'the jammu and kashmir reorganisation bill was passed in rajya sabha', 'there were in all 14 members.', 'on the other...', 'mohammad shami has the ball in his hand.', 'a sensory organ present as a pore in the posterior part of certain worms.', 'capital of cuba', 'nitin patel taking oath as deputy chief minister of gujarat.', 'initiation of mobile app for farmers:', 'apart from these, several important projects have been taken up in the delhi ncr areas around haryana', 'on the occasion of eid-ul-azha,i extend my greetings and good wishes to all fellow citizens and,in particular,to my muslim brothers and sisters, mukherjee said.', 'happy dhanteras!', 'the police have also seized the knife used in the crime.', 'in this case, northeast india might take the opportunity to become independent.', 'president kovind presents padma vibhushan to dr teejan bai for arts.', 'india around the world', 'within south asia, air india transported around 9 tons of supplies on 7th april 2020 and 4 tons on 8th april 2020 to colombo', \"i'm a model.\", 'cut it into four pieces.', 'this means, too, that each year yields a population increase of over 90 million people, the equivalent of three canadas or another mexico.', \"yogi's programme at patna postponed due to mayoral poll\", 'it can be anything.', 'an mou is executed with indian air force for crew selection and training', 'what indicates that jehovah wanted his people to take seriously his laws regarding clean and unclean animals?', 'senior faculty members have been posted as observers at the centres and around 700 electronic voting machines (evms) have been installed, the official said.', \"that required women to get their husband 's consent\", 'country: great britain', 'all the three policemen seen in the picture have been transferred to police lines and an enquiry has been ordered in the incident.', 'hyderabad university student commits suicide'), ('इंग्लैंड के खिलाफ भारत ने दर्ज की शानदार जीत, प्रशंसकों ने बांधे .', 'कौशल विकास एवं उद्यमिता मंत्रालय', 'सदन में पास हुआ जम्मू कश्मीर पुनर्गठन बिल', 'इसमें 14 सदस्य थे.', 'वहीं, दूसरे .', 'मोहम्मद शमी के हाथों में गेंदबाजी सौंपी गई है', 'एक संवेदी अंग जो विभिन्न कृमियों के पश्चवर्ती भाग में रन्ध्र के रूप में विद्यमान होता है.', 'हवाना', 'नितिन पटेल ने गुजरात के उपमुख्यमंत्री पद के रूप में शपथ ली', 'किसानों के लिए मोबाइल एप की शुरुआत:', 'इनके अलावा हरियाणा के आसपास दिल्ली एनसीआर क्षेत्रों में कई अहम परियोजनाएं शुरू की गई हैं', \"उन्होंने कहा, ''ईद के मौके पर सभी देशवासियों विशेषकर हमारे मुस्लिम भाइयों और बहनों को बधाई और शुभकामनाएं.\", 'शुभ धनतेरस !', 'पुलिस ने मौके से वारदात में इस्तेमाल हुआ चाकू भी बरामद कर लिया है.', 'इस मामले में पूर्वोत्तर भारत अवसर का इस्तेमाल आजाद होने के लिए कर सकता है.', \"' (कला क्षेत्र में योगदान के लिए राष्ट्रपति कोविंद ने डॉक्टर तीजन बाई को पद्म विभूषण से सम्मानित किया.\", 'पूरी दुनिया में भारत की जय-जयकार', 'एयर इंडिया ने 7 अप्रैल, 2020 को दक्षिण एशिया में 9 टन सामान और 8 अप्रैल, 2020 को कोलंबो के लिए 4 टन सामान की ढुलाई की गई', 'मुझे मॉडल बना रही है.', 'इसके चार भाग करो.', 'लेकिन सरकारें क्यों परिवार नियोजन के द्वारा जनसंख्या वृद्धि को सीमित करने के लिए उत्सुक हैं?', 'पटना में मेयर चुनाव के कारण योगी का कार्यक्रम स्थगित', 'यह कुछ भी हो सकता है.', 'चालक दल चयन और प्रशिक्षण के लिए भारतीय वायु सेना के साथ एक समझौता ज्ञापन का निष्पादन किया गया है', 'क्या सूचित करता है कि यहोवा ने चाहा कि अपने लोग शुद्ध और अशुद्ध पशुओं संबंधी उसके नियमों को गंभीरतापूर्वक लें?', 'चुनाव अधिकारी ने बताया कि वरिष्ठ संकाय सदस्यों को केंद्रों पर पर्यवेक्षकों के तौर पर तैनात किया गया है और करीब 700 इलेक्ट्रॉनिक वोटिंग मशीनें लगाई गई हैं.', 'जिसके अनुसार किसी स्त्री को अपने पासपोर्ट के नवीनीकरण के लिए', 'देशः इंग्लैंड', 'इन तस्वीरों में जो तीन पुलिसकर्मी दिख रहे हैं उन्हें पुलिस लाइन भेज दिया गया है और मामले के जाँच की जा रही है.', 'हैदराबाद यूनिवर्सिटी के छात्र ने फांसी लगाकर सुसाइड किया')]\n",
            "[('happy makar sankranti wishes', 'neet ug is held for admission to mbbs and bds courses.', 'the companies named in the charge sheet are m/s kanishk enterprises private limited, m/s gupta fast forwards, m/s global vision impex, and m/s aimex general trading company, the spokesperson said.', 'uddhav thackeray to be sworn-in as cm', 'what the law states:', 'nobel prize in literature 2018 cancelled after sexual assault scandal', 'nirbhaya gang-rape convict urges president to withdraw his mercy plea', 'they still support prime minister narendra modi.', 'ms. m sathiyavathy is new secretary of labour and employment', 'cosmopolitan city', 'lack of balanced advice: some cultures downplay the fathers role in raising children.', \"asked about who should be the congress' allies in the next lok sabha elections, tharoor said it was too early and wrong because he is not in a position to speak about it.\", 'caa will not be rolled back: shah', 'necessary instructions have also been issued to field units in this respect', 'its great for india.', 'man detained with bullet at delhi metro station', '79 new covid-19 cases come to light in kanpur', 'later, pawar tweeted that he planned to go to the ed office alone.', 'white mates', 'i dont regret my decision at all.', 'this will be the first monetary policy review after demonetisation of old rs 500 and rs 1,000 currency notes following which banks witnessed surge in deposits.', 'how much will be charged', 'the marine drive police station', 'addressing the people', \"show process 'writable memory' column on startup\", 'credibility of electronic voting machines- regarding', 'special provisions to cghs beneficiaries in view of the covid-19 infection:', 'ive always loved going to india.', 'match: northern ireland vs netherlands', 'what is the governments take on this?'), ('मकर सक्रांति की हार्दिक शुभ कामनायें .', 'नीट परीक्षा एमबीबीएस और बीडीएस पाठ्यक्रमों में एडमिशन के लिए आयोजित की जाती है.', 'वहीं कंपनियों में एमएस कनिष्क इंरटरप्राइजेस, एमएस गुप्ता फास्ट फारवर्ड्स प्राइवेट लिमिटेड, एमएस ग्लोबल विजिन इंपेक्स और ऐमेक्स जनरल ट्रेडिंग कंपनी शामिल है.', 'सीएम पद के लिए उद्धव ठाकरे का नाम', 'क्या कहता है कानून:', 'नोबेल प्राइज पर सेक्स स्कैंडल का साया, स्थगित हो सकता है 2018 का साहित्य के क्षेत्र का नोबेल पुरस्कार', 'निर्भया गैंगरेप के दोषी ने कहा- दया याचिका वापस करें राष्ट्रपति', 'इसके साथ ही उन्होंने प्रधानमंत्री नरेंद्र मोदी का भी समर्थन किया है.', 'सुश्री एम. साथियावती बनीं नई श्रम और रोजगार सचिव', 'विश्वनगर', 'अगर हाँ, तो आपको किन मौकों पर ऐसा लगा?', 'आगामी लोकसभा चुनावों में कांग्रेस की सहयोगी पार्टियां के बारे में पूछने पर थरूर ने कहा कि यह कहना अभी जल्दबाजी और गलत होगा, क्योंकि अभी वह इस बारे में बात करने की स्थिति में नहीं हैं.', 'शाह की हुंकार: नहीं वापस होगा सीएए', 'इस संबंध में क्षेत्रीय इकाइयों को भी आवश्यक निर्देश जारी कर दिए गए हैं', 'यह भारत के लिए शानदार है.', 'दिल्ली में चलती मेट्रो के सामने शख्स ने लगाई छलांग, मौत', 'सिंगापुर में कोविड-19 के 14 नये मामले', 'बाद में, पवार ने ट्वीट किया कि वह ईडी दक्रतर अकेले जाएंगे.', 'सफेद प्यादों को शह', 'मुझे अपने फैसले से कोई मलाल नहीं है', 'देश में 500 और 1,000 रुपये के पुराने नोट बंद होने के बाद यह पहली मौद्रिक नीति की समीक्षा है.', 'कितनी लगेगी फीस', 'मरीन ड्राइव पुलिस स्टेशन', 'लोगों का किया संबोधन', \"आरंभ पर प्रक्रिया 'लेखन योग्य स्मृति' स्तंभ दिखायें\", 'इलेक्ट्रॉनिक वोटिंग मशीनों की विश्वसनीयता के बारे में', 'कोविड-19 संक्रमण के मद्देनजर सीजीएचएस लाभार्थियों के लिए विशेष प्रावधान:', 'मुझे भारत हमेशा से पसंद है.', 'मैच : नीदरलैंड्स वि. नेपाल', 'इसमें सरकार का क्या दोष है?')]\n",
            "[('he urged people to maintain unity and peace in society.', 'protective equipment: coverall and masks', '( a) why is speculation as to when the great tribulation might begin of no value?', \"he pointed to the silent, ramshackle wireless set and began to reproach her. you 've been listening in, don' t you deny it.\", 'the dsp said further action would be taken after getting the forensic report.', 'on receiving information, police reached the spot and sent the body for postmortem.', \"directed by pa ranjith, the film has been produced by rajinikanth's son-in-law and actor dhanush.\", 'issues no. 1 and 2 being preliminary issues, were decided on 18. 10. 2006 in favour of the petitioner.', 'about patel nagar constituency', 'the selection committee has taken the decision.', 'he has said that', '400 patients examined at medical camp', 'repaying capacity (assessed at the time of housing loan) need not be reassessed for considering top - up loan proposals', 'drafts, travellers cheques, letters of credit or bills of exchange, expressed or drawn in indian currency but payable in any foreign currency.', \"why can't you tell me?\", 'cpi(m) led ruling ldf retains chengannur seat in kerala', 'send this message to 567678 or 56161', 'recreate your first date', 'and as i was laughing, i was thinking,', 'police reached the spot and enquired about the incident.', 'actor pankaj tripathi gets special mention award for newton.', 'i was going through a rough time', 'while bjp has fielded three candidates, congress has fielded two candidates for four seats.', 'managing partner', 'karnataka assembly elections to be held in one phase', 'this implies that the us intelligence community were aware of the test in advance because to some extent theyre spying on india, he alleged.', 'no one should go against the law', 'raksha mantri smt nirmala sitharaman met state councilor and defence minister of china gen', '( rock music continues)', 'shouldnt we use that water to grow food instead?'), ('उन्होंने लोगों से समाज में शांति और सौहार्द्र बनाए रखने का अनुरोध किया.', 'प्रोटेक्टिव इक्विपमेंट: कवरआल और मास्क', '( क) भारी क्लेश के शुरू होने के बारे में अटकलें लगाना क्यों बेकार है?', 'फिर उसने ऊपर ताक पर रखे खामोश, टूटे-फुटे रेडियो की ओर इशारा करते हुए उलहना-भरे स्वर में कहा,', 'डीएसपी ने कहा कि पोस्टमार्टम रिपोर्ट आने के बाद आगे की कार्रवाई की जाएगी.', 'वहीं, सूचना के बाद मौके पर पहुंची पुलिस ने शव को कब्जे में लेकर पोस्टमार्टम के लिए भेज दिया.', 'इस फिल्म को रजनीकांत के दामाद धनुष प्रोड्यूस कर रहे हैं और इसका डायरेक्शन कबाली फिल्म बना चुके पीए रनजीथ कर रहे हैं.', 'मुद्दा क्रमांक १ और २ प्रारम्भिक होने के कारण १८. १०. २००६ को याचिकाकर्ता के पक्ष में दे दिए गए', 'पटेल नगर के बारे में', 'चयन समिति ने किया फैसला', 'उन्होंने कहा है कि .', 'शिविर में 400 मरीजों की सेहत जांची', 'टॉप अप ऋण प्रस्तावों पर विचार करने हेतु पुनर्भुगतान क्षमता आवास ऋण के समय प्रक्रमित को पुनःपरिवर्तित करना आवश्यक नहीं है', '() भारतीय मुद्रा में अभिव्यक्त अथवा आहरित परन्तु किसी विदेशी मुद्रा में देय ड्राफ्ट, यात्री चैक, साख पत्र अथवा मुद्रा की हुंडिया.', 'तुम मुझे क्यों नहीं बता सकते?', 'केरल में माकपा की अगुवाई वाले एलडीएफ ने बरकरार रखी चेंगन्नूर सीट', 'इस मैसेज को आप 567678 या 56161 पर भेज दें.', 'फर्स्ट डेट को करें रीक्रिएट', 'और वैसे भी मैं हँस रहा था, मैं सोच रहा था,', 'मौके पर पहुंची पुलिस ने घटना के बारे में लोगों से जानकारी ली.', 'इसी फिल्म के लिए एक्टर पंकज त्रिपाठी को स्पेशल अवॉर्ड मिला है.', 'मुश्किल दौर से गुजर रहा हूं', 'तीन सीटों पर बीजेपी उम्मीदवारों की घोषणा बाकी है तो वहीं एक सीट पर कांग्रेस ने उम्मीदवार घोषित नहीं किया है.', 'प्रबंध भागीदार', 'एक ही चरण में होगा कर्नाटक के विधानसभा चुनाव', 'इसका तात्पर्य यह है कि अमेरिकी खुफिया समुदाय को पहले से ही परीक्षण के बारे में पता था क्योंकि कुछ हद तक वे भारत पर जासूसी कर रहे हैं.', 'किसी को भी देशहित के बाहर नहीं जाना चाहिए', 'संजय कुमार मिश्रा, उप महानिरीक्षक/रेलवे सुरक्षा विशेष बल', '(रॉक संगीत जारी)', 'क्या हमें भोजन उगाने के लिए उस पानी का उपयोग नहीं करना चाहिए?')]\n"
          ]
        }
      ],
      "source": [
        "for batch_num, batch in enumerate(iterator):\n",
        "    print(batch)\n",
        "    if batch_num > 3:\n",
        "        break"
      ]
    },
    {
      "cell_type": "code",
      "execution_count": 20,
      "id": "9e55ad33",
      "metadata": {
        "id": "9e55ad33"
      },
      "outputs": [],
      "source": [
        "from torch import nn\n",
        "\n",
        "criterian = nn.CrossEntropyLoss(ignore_index=hindi_to_index[PADDING_TOKEN],\n",
        "                                reduction='none')\n",
        "\n",
        "# When computing the loss, we are ignoring cases when the label is the padding token\n",
        "for params in transformer.parameters():\n",
        "    if params.dim() > 1:\n",
        "        nn.init.xavier_uniform_(params)\n",
        "\n",
        "optim = torch.optim.Adam(transformer.parameters(), lr=1e-4)\n",
        "device = torch.device('cuda') if torch.cuda.is_available() else torch.device('cpu')"
      ]
    },
    {
      "cell_type": "code",
      "execution_count": 21,
      "id": "353aadc7",
      "metadata": {
        "id": "353aadc7"
      },
      "outputs": [],
      "source": [
        "NEG_INFTY = -1e9\n",
        "\n",
        "def create_masks(eng_batch, hi_batch):\n",
        "    num_sentences = len(eng_batch)\n",
        "    look_ahead_mask = torch.full([max_sequence_length, max_sequence_length] , True)\n",
        "    look_ahead_mask = torch.triu(look_ahead_mask, diagonal=1)\n",
        "    encoder_padding_mask = torch.full([num_sentences, max_sequence_length, max_sequence_length] , False)\n",
        "    decoder_padding_mask_self_attention = torch.full([num_sentences, max_sequence_length, max_sequence_length] , False)\n",
        "    decoder_padding_mask_cross_attention = torch.full([num_sentences, max_sequence_length, max_sequence_length] , False)\n",
        "\n",
        "    for idx in range(num_sentences):\n",
        "      eng_sentence_length, hi_sentence_length = len(eng_batch[idx]), len(hi_batch[idx])\n",
        "      eng_chars_to_padding_mask = np.arange(eng_sentence_length + 1, max_sequence_length)\n",
        "      hi_chars_to_padding_mask = np.arange(hi_sentence_length + 1, max_sequence_length)\n",
        "      encoder_padding_mask[idx, :, eng_chars_to_padding_mask] = True\n",
        "      encoder_padding_mask[idx, eng_chars_to_padding_mask, :] = True\n",
        "      decoder_padding_mask_self_attention[idx, :, hi_chars_to_padding_mask] = True\n",
        "      decoder_padding_mask_self_attention[idx, hi_chars_to_padding_mask, :] = True\n",
        "      decoder_padding_mask_cross_attention[idx, :, eng_chars_to_padding_mask] = True\n",
        "      decoder_padding_mask_cross_attention[idx, hi_chars_to_padding_mask, :] = True\n",
        "\n",
        "    encoder_self_attention_mask = torch.where(encoder_padding_mask, NEG_INFTY, 0)\n",
        "    decoder_self_attention_mask =  torch.where(look_ahead_mask + decoder_padding_mask_self_attention, NEG_INFTY, 0)\n",
        "    decoder_cross_attention_mask = torch.where(decoder_padding_mask_cross_attention, NEG_INFTY, 0)\n",
        "    return encoder_self_attention_mask, decoder_self_attention_mask, decoder_cross_attention_mask"
      ]
    },
    {
      "cell_type": "code",
      "execution_count": 22,
      "id": "ed58366a",
      "metadata": {
        "colab": {
          "base_uri": "https://localhost:8080/"
        },
        "id": "ed58366a",
        "outputId": "1fa60d35-8d8f-4c57-e888-cf28994ecb63"
      },
      "outputs": [
        {
          "output_type": "stream",
          "name": "stdout",
          "text": [
            "Epoch 0\n",
            "Iteration 0 : 5.620936870574951\n",
            "English: in reply, pakistan got off to a solid start.\n",
            "Hindi Translation: जिसके जवाब में पाक ने अच्छी शुरुआत की थी.\n",
            "Hindi Prediction: 8,8त-8#8888888888ॉ\\ॉऽछ-छ8ऽॠ88888888ॉ88ऽै88नथॉ<PAD>ङ888ंदॉॉछॉछछछढछोछषेॉषॉ--छ#-##ढ,,ढ,~~,,,ॉ^,,<PAD>,,छछॉढ,ढॉढॉ,ॉ,ॉॉॉॉ१०,ॉॉढॉ,,,ॉ,ॉ,,,,छ१ॉॉॉॉ,,~,,ँॉ,5,ढछ|5ॉ,,,ॉ,ॉॉ~-ाषष%1,ॉॉ१ष,तढछ,ॉॉ३णण^<PAD>१त11ऽ1त|||ऽऽढऽऽॉ०ऽऽऽऽऽ,\n",
            "Evaluation translation (should we go to the mall?) : ('                                                                                                                                                                   ाा                                   ',)\n",
            "-------------------------------------------\n",
            "Iteration 100 : 3.4670729637145996\n",
            "English: similarly, infrastructure -\n",
            "Hindi Translation: इसी तरह, बुनियादी सुविधाएँ,\n",
            "Hindi Prediction: हकर                             र                                                                                                        ा                                     ा                        \n",
            "Evaluation translation (should we go to the mall?) : ('सस                             <END>',)\n",
            "-------------------------------------------\n",
            "Iteration 200 : 3.1993329524993896\n",
            "English: 46,963 new confirmed cases were recorded in the last 24 hours\n",
            "Hindi Translation: पिछले 24 घंटों में यहां 5,018 नए मामले सामने आए\n",
            "Hindi Prediction: इास ा क  क     क   म    क     क  क     क     क  कनकनररक क  कक कररकररर  क करर  रररक र  रत रक न  कनक   ररकक लक ररकनदर क  करदक र रकररकक   ररस कक  ककककहर   र ररक  तसरन  सरससरररररकरर प ककककररर र रय   रररकर\n",
            "Evaluation translation (should we go to the mall?) : ('सा स क क क क क क का का का ह<END>',)\n",
            "-------------------------------------------\n",
            "Iteration 300 : 3.0027153491973877\n",
            "English: pov - ray 3. 5 objects\n",
            "Hindi Translation: पोव-रे 3.5 वस्तुएँ\n",
            "Hindi Prediction: पाका   का  कािरा   नरर    क रनकररकरक रर  न नरयन ररर र ररर  रर रररर  र  र  र र  रर ररर रर र रररर  रररररर  रलररररयर       ररररर रररररर रर रररर  रकरर  र  र ररररय र  ररर ररर र यररररर  यर रर ररर  र रर रररर\n",
            "Evaluation translation (should we go to the mall?) : ('इसा का के का के का का का हा<END>',)\n",
            "-------------------------------------------\n",
            "Iteration 400 : 2.9079806804656982\n",
            "English: the police also reached the spot with its team.\n",
            "Hindi Translation: पुलिस भी दल-बल के साथ उस जगह के लिए रवाना हो गई.\n",
            "Hindi Prediction: किरि ्का क   ि के क्  क  क  ाका का  क ा   कै का\n",
            "Evaluation translation (should we go to the mall?) : ('स्र का के का का का का का का है.<END>',)\n",
            "-------------------------------------------\n",
            "Iteration 500 : 2.8431899547576904\n",
            "English: should education be perceived to be employment oriented?\n",
            "Hindi Translation: क्या यह जरूरी है कि शिक्षा ही रोजगारपरक हो?\n",
            "Hindi Prediction: इार् काासाार  का क् कास्र्नकै क  ाा  ा ेकै  लररररर  रनरन नर     न रर रर  रर   र र  र न  रर र रररर ररं   रनरर  र  र     र  यरक   रर क     ररयरकलररर  रर रर यकररर  कदरययरररररर रर र    रर रर रर  ररयरररररर\n",
            "Evaluation translation (should we go to the mall?) : ('का का के के के के के है है.<END>',)\n",
            "-------------------------------------------\n",
            "Iteration 600 : 2.7591702938079834\n",
            "English: india immediately rejected trumps assertion.\n",
            "Hindi Translation: भारत ने ट्रम्प के इस दावे को नकार दिया है.\n",
            "Hindi Prediction: इिर् म  म र ाररका कन कारा का केी  हारा हैं\n",
            "Evaluation translation (should we go to the mall?) : ('इस्र का का का के का का है.<END>',)\n",
            "-------------------------------------------\n",
            "Iteration 700 : 2.729088068008423\n",
            "English: ajit pawar was blackmailed into joining hands with bjp: raut\n",
            "Hindi Translation: भाजपा से हाथ मिलाने के लिये अजित पवार को ब्लैकमेल किया गया: राउत\n",
            "Hindi Prediction: पारा् क  कै  केल  े के क्   मल य क्ा  कांकार  े  ाकाय  का   ह  न  नकर   ल    ल   नरर   क र  रन  रररककक कनललर   नलक र   कककक क लकरनकलनक कल   कककरक     र  र कर र रयररय  रर यय यररत   कककरर  यरर    यररररर\n",
            "Evaluation translation (should we go to the mall?) : ('उसक्र के का के का है.<END>',)\n",
            "-------------------------------------------\n",
            "Iteration 800 : 2.674377918243408\n",
            "English: anjuta plugins\n",
            "Hindi Translation: अंजूटा\n",
            "Hindi Prediction: कससा   क ककन कककककन क  क  न न न र क  न   रकक       ंरन रन न         क  न     रक  कन रर  नककरय कनसकनक यरनककर र   न     त कककक क ककककतक क न य कककनक क त सकयनक कय  ककन य   रककक  कक         कक   रय  नयनककन\n",
            "Evaluation translation (should we go to the mall?) : ('प्र का के का के के के है.<END>',)\n",
            "-------------------------------------------\n",
            "Epoch 1\n",
            "Iteration 0 : 2.6945950984954834\n",
            "English: in reply, pakistan got off to a solid start.\n",
            "Hindi Translation: जिसके जवाब में पाक ने अच्छी शुरुआत की थी.\n",
            "Hindi Prediction: इास ा काा ाके  का ाके कपारा कान ननाका का \n",
            "Evaluation translation (should we go to the mall?) : ('इसके के के के के के के है.<END>',)\n",
            "-------------------------------------------\n",
            "Iteration 100 : 2.736828088760376\n",
            "English: similarly, infrastructure -\n",
            "Hindi Translation: इसी तरह, बुनियादी सुविधाएँ,\n",
            "Hindi Prediction: कसे का ी केरे ा ी केमा ा       रर                नर   रं           र  त          ररररररर न र     र   न  रकर  रनर  र   य यर र    ररररकक     यक  रर  रर   र रक     रर नर रर  र  तर     क  रतय र य  ररररररर\n",
            "Evaluation translation (should we go to the mall?) : ('क्या के के कर कर कर कर है.<END>',)\n",
            "-------------------------------------------\n",
            "Iteration 200 : 2.707408905029297\n",
            "English: 46,963 new confirmed cases were recorded in the last 24 hours\n",
            "Hindi Translation: पिछले 24 घंटों में यहां 5,018 नए मामले सामने आए\n",
            "Hindi Prediction: स्स   क0 कर  ं के  माै  क   0 के मे े  हे े  कप रन    न                       ल  र    क र    ल  नर लर रलरर   ल  ललर    कल  ल कक    न   ल   ल   नरक  लन     रयर     र र र   य          ररक  लर  र  रररररर\n",
            "Evaluation translation (should we go to the mall?) : ('इस का का का का का है.<END>',)\n",
            "-------------------------------------------\n",
            "Iteration 300 : 2.7158374786376953\n",
            "English: pov - ray 3. 5 objects\n",
            "Hindi Translation: पोव-रे 3.5 वस्तुएँ\n",
            "Hindi Prediction: मररि   क   काेरार  ल      रकक    न      र                                               र      र           र                                                       र            र         र      र र रर \n",
            "Evaluation translation (should we go to the mall?) : ('क्या की की की की की की है.<END>',)\n",
            "-------------------------------------------\n",
            "Iteration 400 : 2.6655819416046143\n",
            "English: the police also reached the spot with its team.\n",
            "Hindi Translation: पुलिस भी दल-बल के साथ उस जगह के लिए रवाना हो गई.\n",
            "Hindi Prediction: इ्रिल का के    के केराकपेकाााकी किय काा   कैंकि\n",
            "Evaluation translation (should we go to the mall?) : ('किक कों के किया कर कर की है.<END>',)\n",
            "-------------------------------------------\n",
            "Iteration 500 : 2.671356678009033\n",
            "English: should education be perceived to be employment oriented?\n",
            "Hindi Translation: क्या यह जरूरी है कि शिक्षा ही रोजगारपरक हो?\n",
            "Hindi Prediction: म्रा कह का    मै के काए य् को कह ा      है \n",
            "Evaluation translation (should we go to the mall?) : ('क्या के के के के है.<END>',)\n",
            "-------------------------------------------\n",
            "Iteration 600 : 2.568138837814331\n",
            "English: india immediately rejected trumps assertion.\n",
            "Hindi Translation: भारत ने ट्रम्प के इस दावे को नकार दिया है.\n",
            "Hindi Prediction: इार ाके केर  र्के कस्किना मी कहा  केका कै.\n",
            "Evaluation translation (should we go to the mall?) : ('इसक को के के कि की है.<END>',)\n",
            "-------------------------------------------\n",
            "Iteration 700 : 2.5745232105255127\n",
            "English: ajit pawar was blackmailed into joining hands with bjp: raut\n",
            "Hindi Translation: भाजपा से हाथ मिलाने के लिये अजित पवार को ब्लैकमेल किया गया: राउत\n",
            "Hindi Prediction: सारा् मे कै  केल    के किका कपाय करार के कारा.    कर ा हाा  हह न    ल          र रलर             ल    ललरर              क  लकक एकककककक  कन    र  रल       र द    कदरकक र  र  र रर त   ककयलर  र    रररकरद\n",
            "Evaluation translation (should we go to the mall?) : ('क्या के के के के है.<END>',)\n",
            "-------------------------------------------\n",
            "Iteration 800 : 2.4877467155456543\n",
            "English: anjuta plugins\n",
            "Hindi Translation: अंजूटा\n",
            "Hindi Prediction: पपपा    ककनकलक ल कल  ं       क ल ल  ं    ल कंनलल  ं   ल क    ल   र              रक  व      कन         रद ल       ल      र    क क ककक क      क कक  क स   र   व      र  रर      करद    क   क  य      ररकरर\n",
            "Evaluation translation (should we go to the mall?) : ('क्या के के के के के की है.<END>',)\n",
            "-------------------------------------------\n",
            "Epoch 2\n",
            "Iteration 0 : 2.5617358684539795\n",
            "English: in reply, pakistan got off to a solid start.\n",
            "Hindi Translation: जिसके जवाब में पाक ने अच्छी शुरुआत की थी.\n",
            "Hindi Prediction: इाल   काार कें क्  के कपार  कान लर की हा \n",
            "Evaluation translation (should we go to the mall?) : ('इस कों को को को को है.<END>',)\n",
            "-------------------------------------------\n",
            "Iteration 100 : 2.588777780532837\n",
            "English: similarly, infrastructure -\n",
            "Hindi Translation: इसी तरह, बुनियादी सुविधाएँ,\n",
            "Hindi Prediction: कसक म््  काल क    केरिय     क र र  र रर रर  र   ररररररर कररर  नर     रररर      ररर  रररररर र  ररररर ररररकरर  र र  दर करर रर रक रर   कररर     य रर रर ररररररर  रर  ररररररररररर र र तरररररररर ररररर रररररर\n",
            "Evaluation translation (should we go to the mall?) : ('क्या के के के कर कर है.<END>',)\n",
            "-------------------------------------------\n",
            "Iteration 200 : 2.554788589477539\n",
            "English: 46,963 new confirmed cases were recorded in the last 24 hours\n",
            "Hindi Translation: पिछले 24 घंटों में यहां 5,018 नए मामले सामने आए\n",
            "Hindi Prediction: क्ल   क0 कर ्ं कें कही  क0    के केमे  केरे  करं र र र             र र ए       र र ररर रर क    दररक रर लकर    र रक        र कककररक क क        ककक ज      र       एर र र  कर र  रर  रर  रररल    रर रररररर\n",
            "Evaluation translation (should we go to the mall?) : ('इस को के को को हैं है.<END>',)\n",
            "-------------------------------------------\n",
            "Iteration 300 : 2.5802674293518066\n",
            "English: pov - ray 3. 5 objects\n",
            "Hindi Translation: पोव-रे 3.5 वस्तुएँ\n",
            "Hindi Prediction: क्रर   क \n",
            "Evaluation translation (should we go to the mall?) : ('इसके को को की कर हैं है.<END>',)\n",
            "-------------------------------------------\n",
            "Iteration 400 : 2.5521230697631836\n",
            "English: the police also reached the spot with its team.\n",
            "Hindi Translation: पुलिस भी दल-बल के साथ उस जगह के लिए रवाना हो गई.\n",
            "Hindi Prediction: क्ल   का किा   के केर कन्का  हे हिए हहा ा हैगहय \n",
            "Evaluation translation (should we go to the mall?) : ('क्या के को कर कर कर है.<END>',)\n",
            "-------------------------------------------\n",
            "Iteration 500 : 2.5617384910583496\n",
            "English: should education be perceived to be employment oriented?\n",
            "Hindi Translation: क्या यह जरूरी है कि शिक्षा ही रोजगारपरक हो?\n",
            "Hindi Prediction: उ्या कह का्र  कै के काएाष् कै कहत       है \n",
            "Evaluation translation (should we go to the mall?) : ('उनके के को के कि है?<END>',)\n",
            "-------------------------------------------\n",
            "Iteration 600 : 2.439087152481079\n",
            "English: india immediately rejected trumps assertion.\n",
            "Hindi Translation: भारत ने ट्रम्प के इस दावे को नकार दिया है.\n",
            "Hindi Prediction: इार िके केर् र कि कस्केरा केंकहा  किला कै.\n",
            "Evaluation translation (should we go to the mall?) : ('इस किस का कि कि कि है?<END>',)\n",
            "-------------------------------------------\n",
            "Iteration 700 : 2.4638288021087646\n",
            "English: ajit pawar was blackmailed into joining hands with bjp: raut\n",
            "Hindi Translation: भाजपा से हाथ मिलाने के लिये अजित पवार को ब्लैकमेल किया गया: राउत\n",
            "Hindi Prediction: पार ा के कार केलार  के किए  कपाक करार के काराल    करया कईा  कहरन ररर  र क   ररररररकररर र करर  यसरररकककर  रकररररपर ललर रककरकककककक ल ककरकर पकररककरकर  रप ररककयरंरररकककरकमकककरकयक  रकरककर रररकसरसरर ररररररक\n",
            "Evaluation translation (should we go to the mall?) : ('उनके के को को कि है?<END>',)\n",
            "-------------------------------------------\n",
            "Iteration 800 : 2.3716516494750977\n",
            "English: anjuta plugins\n",
            "Hindi Translation: अंजूटा\n",
            "Hindi Prediction: सपगि   ककककस ककककककक  कक  कपक   सकंक  कररककककककलरसरररसकरकरकक क कररररससक   य  रस क करकररककरप कककसररकक  ककरकसर रसरसककससकसकसरककककक क कक सकसकससकककककसकर क स करकककककववकककककसककय ककककररकप कककसकसरर क स रररररसर\n",
            "Evaluation translation (should we go to the mall?) : ('क्या को कहा क्या कर है?<END>',)\n",
            "-------------------------------------------\n",
            "Epoch 3\n",
            "Iteration 0 : 2.4222543239593506\n",
            "English: in reply, pakistan got off to a solid start.\n",
            "Hindi Translation: जिसके जवाब में पाक ने अच्छी शुरुआत की थी.\n",
            "Hindi Prediction: इान ा साान कें करर से कपार  काल ल ाहे हा \n",
            "Evaluation translation (should we go to the mall?) : ('इस क्या कहा क्या कर है?<END>',)\n",
            "-------------------------------------------\n",
            "Iteration 100 : 2.4791457653045654\n",
            "English: similarly, infrastructure -\n",
            "Hindi Translation: इसी तरह, बुनियादी सुविधाएँ,\n",
            "Hindi Prediction: कसक क््  कार य    केलाया    ककयरककक ररररररकरककररककररररररककरकररक रररररर करकरक रररकर रकरककररक    रररकरररकरररररक ररकककरक ररररककककरककककककककरयररकककररकरककरर रररकररकरर ररररककररककककयरररररकककरररकरररररररररररररक\n",
            "Evaluation translation (should we go to the mall?) : ('क्या क्या क्या कर कर है?<END>',)\n",
            "-------------------------------------------\n",
            "Iteration 200 : 2.4562466144561768\n",
            "English: 46,963 new confirmed cases were recorded in the last 24 hours\n",
            "Hindi Translation: पिछले 24 घंटों में यहां 5,018 नए मामले सामने आए\n",
            "Hindi Prediction: इ्र   क0 कास ं कें कहा  क0    के केमा  केमेे कर ररक रररर कररर रर  ररर रकर   ररररररररर रककरक करररकरररक  कककरकरररररक र रकरकरररकककरकरककक   कर एकककएस रएक   रकररकररर ररकककररररककरररर ककररकरपएकररस  ररररररररक\n",
            "Evaluation translation (should we go to the mall?) : ('क्या क्या क्या क्या है?<END>',)\n",
            "-------------------------------------------\n",
            "Iteration 300 : 2.4792559146881104\n",
            "English: pov - ray 3. 5 objects\n",
            "Hindi Translation: पोव-रे 3.5 वस्तुएँ\n",
            "Hindi Prediction: क्रा ् क   कि्राल \n",
            "Evaluation translation (should we go to the mall?) : ('क्या क्या क्या कर कर कर है?<END>',)\n",
            "-------------------------------------------\n",
            "Iteration 400 : 2.453572988510132\n",
            "English: the police also reached the spot with its team.\n",
            "Hindi Translation: पुलिस भी दल-बल के साथ उस जगह के लिए रवाना हो गई.\n",
            "Hindi Prediction: सरल्स की किा ा की पेर कन का  हर हिए हहा   हैगहय \n",
            "Evaluation translation (should we go to the mall?) : ('क्या क्या क्या क्या क्या है?<END>',)\n",
            "-------------------------------------------\n",
            "Iteration 500 : 2.447477102279663\n",
            "English: should education be perceived to be employment oriented?\n",
            "Hindi Translation: क्या यह जरूरी है कि शिक्षा ही रोजगारपरक हो?\n",
            "Hindi Prediction: क्या कहाका    कै क् साराय  कै हह ाा     लैं\n",
            "Evaluation translation (should we go to the mall?) : ('क्या क्या क्या क्या है?<END>',)\n",
            "-------------------------------------------\n",
            "Iteration 600 : 2.3479652404785156\n",
            "English: india immediately rejected trumps assertion.\n",
            "Hindi Translation: भारत ने ट्रम्प के इस दावे को नकार दिया है.\n",
            "Hindi Prediction: इारतामे कार ंटाका सन किजा का कहा  किला कै.\n",
            "Evaluation translation (should we go to the mall?) : ('क्या क्या क्या कि किया है?<END>',)\n",
            "-------------------------------------------\n",
            "Iteration 700 : 2.3802671432495117\n",
            "English: ajit pawar was blackmailed into joining hands with bjp: raut\n",
            "Hindi Translation: भाजपा से हाथ मिलाने के लिये अजित पवार को ब्लैकमेल किया गया: राउत\n",
            "Hindi Prediction: साराा सं कान केला   के किएा कपाक करार के सारिं    काया काा  काषन्रककंरक कसपंंरररकररररकककपककररकककककंंरकंकककररकररपपककककरपसकपकककककरकककककककंसककंकककककककककंंककककरककककककककककककककककककरकरककक रपसकककसरंरर ररसररसर\n",
            "Evaluation translation (should we go to the mall?) : ('क्या क्या क्या क्या है?<END>',)\n",
            "-------------------------------------------\n",
            "Iteration 800 : 2.302457809448242\n",
            "English: anjuta plugins\n",
            "Hindi Translation: अंजूटा\n",
            "Hindi Prediction: सपगा   कककककएककककककरक कसकसककककक कसकक कक सरंकसककपककं कककस कककएक  र रर सस     सरक स ककसकस र सक कककससकककककससककरकससरककरक ससक स कककककककककककककककककसककसससकसरपकसससककसंकसकसससससकससकककककरकककककसककसससससकससक सककससरर\n",
            "Evaluation translation (should we go to the mall?) : ('क्या क्या क्या क्या है?<END>',)\n",
            "-------------------------------------------\n",
            "Epoch 4\n",
            "Iteration 0 : 2.3360135555267334\n",
            "English: in reply, pakistan got off to a solid start.\n",
            "Hindi Translation: जिसके जवाब में पाक ने अच्छी शुरुआत की थी.\n",
            "Hindi Prediction: इास   साार कें कार से कपारा कुल नराकि सा \n",
            "Evaluation translation (should we go to the mall?) : ('क्या क्या क्या क्या क्या है?<END>',)\n",
            "-------------------------------------------\n",
            "Iteration 100 : 2.3913896083831787\n",
            "English: similarly, infrastructure -\n",
            "Hindi Translation: इसी तरह, बुनियादी सुविधाएँ,\n",
            "Hindi Prediction: पस एक््ल काराया   क्राकि  \n",
            "Evaluation translation (should we go to the mall?) : ('क्या क्या क्या क्या है?<END>',)\n",
            "-------------------------------------------\n",
            "Iteration 200 : 2.3897979259490967\n",
            "English: 46,963 new confirmed cases were recorded in the last 24 hours\n",
            "Hindi Translation: पिछले 24 घंटों में यहां 5,018 नए मामले सामने आए\n",
            "Hindi Prediction: र्रा  म0 काध ं कें कहा  क0 0  के केम ा केर   कई ककंककररकककरकरकरककररररककए कएरककर रकरररकककरक ककककककककककरककरककककररकसरककककरएककककककककएककककककककककंएएएएरकसकससककएकररककएककककककसकककरककककककरककपकपकककरकककरकररररकरररर\n",
            "Evaluation translation (should we go to the mall?) : ('क्या क्या क्या क्या है?<END>',)\n",
            "-------------------------------------------\n",
            "Iteration 300 : 2.3630423545837402\n",
            "English: pov - ray 3. 5 objects\n",
            "Hindi Translation: पोव-रे 3.5 वस्तुएँ\n",
            "Hindi Prediction: क्रा ् क   कि्रार  ककएकरककककककरककररकररररररररककरकरररररररररररररकरररर कएकक कप  ररररसवरकरपरएकककककककक रररककतककरककरररसरकककककसकररकसककककककककककककसकककरएकएकरसकसससरककककसवकसककककससरसकककककरककदककरककसककककरकसरररसरकरररस\n",
            "Evaluation translation (should we go to the mall?) : ('क्या क्या क्या क्या है?<END>',)\n",
            "-------------------------------------------\n",
            "Iteration 400 : 2.3615200519561768\n",
            "English: the police also reached the spot with its team.\n",
            "Hindi Translation: पुलिस भी दल-बल के साथ उस जगह के लिए रवाना हो गई.\n",
            "Hindi Prediction: इ्ल्स की किी  ाके केह कन काा ही लिए हहा   कै हय \n",
            "Evaluation translation (should we go to the mall?) : ('क्या क्या क्या क्या है?<END>',)\n",
            "-------------------------------------------\n",
            "Iteration 500 : 2.370783567428589\n",
            "English: should education be perceived to be employment oriented?\n",
            "Hindi Translation: क्या यह जरूरी है कि शिक्षा ही रोजगारपरक हो?\n",
            "Hindi Prediction: क्या कह का्   कैंहि कानाष् कैंहहग       कैग\n",
            "Evaluation translation (should we go to the mall?) : ('क्या क्या क्या क्या है?<END>',)\n",
            "-------------------------------------------\n",
            "Iteration 600 : 2.2867565155029297\n",
            "English: india immediately rejected trumps assertion.\n",
            "Hindi Translation: भारत ने ट्रम्प के इस दावे को नकार दिया है.\n",
            "Hindi Prediction: पारत मे क्यीाटाके पंककेंाशकी के र काया है.\n",
            "Evaluation translation (should we go to the mall?) : ('क्या क्या क्या क्या है?<END>',)\n",
            "-------------------------------------------\n",
            "Iteration 700 : 2.295461416244507\n",
            "English: ajit pawar was blackmailed into joining hands with bjp: raut\n",
            "Hindi Translation: भाजपा से हाथ मिलाने के लिये अजित पवार को ब्लैकमेल किया गया: राउत\n",
            "Hindi Prediction: माराारक् कुलाकेला   के सिएा कंास करार के सारां    केया किा  कहहन्ककककककरपकएककककसससकककरककपकसककककककककककककसकसककक पकककककककसससकसकककककककककककककककककककककककककसकसककककककरककककककसकमकसककककककककककककककककककककसककसकरककएसक\n",
            "Evaluation translation (should we go to the mall?) : ('क्या क्या क्या क्या है?<END>',)\n",
            "-------------------------------------------\n",
            "Iteration 800 : 2.2067277431488037\n",
            "English: anjuta plugins\n",
            "Hindi Translation: अंजूटा\n",
            "Hindi Prediction: संगे   कककककककककककककसकककककककससककककककककसरकरककरकककंकंककरककरकंंकककककरकररकककसककसकककककररककरककरककककसकककरंकसककतकककरककपककककककसककसककककककककककककककककसककककससंसकसससससककसककककससकपसककसकसकककककककककककककपकककककककसससककससकसस\n",
            "Evaluation translation (should we go to the mall?) : ('क्या क्या क्या क्या है?<END>',)\n",
            "-------------------------------------------\n",
            "Epoch 5\n",
            "Iteration 0 : 2.2503602504730225\n",
            "English: in reply, pakistan got off to a solid start.\n",
            "Hindi Translation: जिसके जवाब में पाक ने अच्छी शुरुआत की थी.\n",
            "Hindi Prediction: इासेि सोार कें करर से कप्र  हुल्न  हि हा.\n",
            "Evaluation translation (should we go to the mall?) : ('क्या क्या क्या क्या है?<END>',)\n",
            "-------------------------------------------\n",
            "Iteration 100 : 2.310371160507202\n",
            "English: similarly, infrastructure -\n",
            "Hindi Translation: इसी तरह, बुनियादी सुविधाएँ,\n",
            "Hindi Prediction: मस  क््  कार्या   क्राका ं\n",
            "Evaluation translation (should we go to the mall?) : ('क्या क्या क्या क्या है?<END>',)\n",
            "-------------------------------------------\n",
            "Iteration 200 : 2.3253297805786133\n",
            "English: 46,963 new confirmed cases were recorded in the last 24 hours\n",
            "Hindi Translation: पिछले 24 घंटों में यहां 5,018 नए मामले सामने आए\n",
            "Hindi Prediction: स्सा  क0 काग ं कें का   क0    के केमल  केथा  करसककररकररककरकरकरकरकररसररककसककस रकसरररकररररकपककसककरककककककककककरककककककककएककसकएसकसककककककककसकककसससएएसकयपकसकससससरपरसककससरसकककसककसससककककरसरकककपककककककरकसररररकसररक\n",
            "Evaluation translation (should we go to the mall?) : ('क्या क्या क्या है?<END>',)\n",
            "-------------------------------------------\n",
            "Iteration 300 : 2.3240270614624023\n",
            "English: pov - ray 3. 5 objects\n",
            "Hindi Translation: पोव-रे 3.5 वस्तुएँ\n",
            "Hindi Prediction: क्रा ् क0  कि्तारं एरककककककककककससककककककरररकककककररकरककररककरकककरररररररकरकरपकतरकरररककरककरकपतकककएककककककककककककककककककपरकककककरएकरकककककककरकककककककसककसकएकसककससससककरकरककसएपससककककककककककककककरकककपरसकककसककरसकररककरकर\n",
            "Evaluation translation (should we go to the mall?) : ('क्या क्या क्या क्या है?<END>',)\n",
            "-------------------------------------------\n",
            "Iteration 400 : 2.299407958984375\n",
            "English: the police also reached the spot with its team.\n",
            "Hindi Translation: पुलिस भी दल-बल के साथ उस जगह के लिए रवाना हो गई.\n",
            "Hindi Prediction: इुलिस की को्का के लेथ कसकका  हो हिए हहाल  है हय \n",
            "Evaluation translation (should we go to the mall?) : ('क्या क्या क्या क्या है?<END>',)\n",
            "-------------------------------------------\n",
            "Iteration 500 : 2.279106855392456\n",
            "English: should education be perceived to be employment oriented?\n",
            "Hindi Translation: क्या यह जरूरी है कि शिक्षा ही रोजगारपरक हो?\n",
            "Hindi Prediction: क्या कह का्   कै कि सार्षा कै कहदन     ाकै \n",
            "Evaluation translation (should we go to the mall?) : ('क्या क्या क्या क्या है?<END>',)\n",
            "-------------------------------------------\n",
            "Iteration 600 : 2.2201428413391113\n",
            "English: india immediately rejected trumps assertion.\n",
            "Hindi Translation: भारत ने ट्रम्प के इस दावे को नकार दिया है.\n",
            "Hindi Prediction: इारत के म्रि माके सं केला की केत  किया है.\n",
            "Evaluation translation (should we go to the mall?) : ('क्या क्या क्या क्या है?<END>',)\n",
            "-------------------------------------------\n",
            "Iteration 700 : 2.224787712097168\n",
            "English: ajit pawar was blackmailed into joining hands with bjp: raut\n",
            "Hindi Translation: भाजपा से हाथ मिलाने के लिये अजित पवार को ब्लैकमेल किया गया: राउत\n",
            "Hindi Prediction: पारपा के का  केला   के सिएा कंायाकरार के कारां    काया कएा \n",
            "Evaluation translation (should we go to the mall?) : ('क्या क्या क्या क्या है?<END>',)\n",
            "-------------------------------------------\n",
            "Iteration 800 : 2.144766092300415\n",
            "English: anjuta plugins\n",
            "Hindi Translation: अंजूटा\n",
            "Hindi Prediction: पपत्ल  ररसककरकररककककककककककसकरककरकररकककसरररकपकककरररकरररररररररककरररररककरररररंररपरररसकररककरकककककरकककरककरकककरकरकरककतकसरसरकरकककककककककककपसकककसककरकककससरसससकरससककककककककककककककककककककककककरककपकककककककककससकककरकरकरस\n",
            "Evaluation translation (should we go to the mall?) : ('क्या क्या क्या है?<END>',)\n",
            "-------------------------------------------\n",
            "Epoch 6\n",
            "Iteration 0 : 2.191276788711548\n",
            "English: in reply, pakistan got off to a solid start.\n",
            "Hindi Translation: जिसके जवाब में पाक ने अच्छी शुरुआत की थी.\n",
            "Hindi Prediction: इासेा कााद कें करराकह कप्र  कान्खई हो हा.\n",
            "Evaluation translation (should we go to the mall?) : ('क्या क्या क्या क्या है?<END>',)\n",
            "-------------------------------------------\n",
            "Iteration 100 : 2.2167859077453613\n",
            "English: similarly, infrastructure -\n",
            "Hindi Translation: इसी तरह, बुनियादी सुविधाएँ,\n",
            "Hindi Prediction: रस  मर्  काल्का   केराकिरं\n",
            "Evaluation translation (should we go to the mall?) : ('क्या क्या क्या है?<END>',)\n",
            "-------------------------------------------\n",
            "Iteration 200 : 2.2509169578552246\n",
            "English: 46,963 new confirmed cases were recorded in the last 24 hours\n",
            "Hindi Translation: पिछले 24 घंटों में यहां 5,018 नए मामले सामने आए\n",
            "Hindi Prediction: र्छल  क0 काच ं कें कह   क0    के केंले केम े कईमरसकरपरररररररपरररररररररकरररररररररररररकरररररकपककककरककररकरपसककरकरककरकरररकररपररककररपकककककककसरकरएएएएरएकररपरसरपकररररककपककककककरकपपकरकरकरकपकककसकरककररररररररररररक\n",
            "Evaluation translation (should we go to the mall?) : ('क्या है क्या है हैं?<END>',)\n",
            "-------------------------------------------\n",
            "Iteration 300 : 2.249101400375366\n",
            "English: pov - ray 3. 5 objects\n",
            "Hindi Translation: पोव-रे 3.5 वस्तुएँ\n",
            "Hindi Prediction: 1ुरा ् क   कि्तारं\n",
            "Evaluation translation (should we go to the mall?) : ('क्या क्या क्या है?<END>',)\n",
            "-------------------------------------------\n",
            "Iteration 400 : 2.2521634101867676\n",
            "English: the police also reached the spot with its team.\n",
            "Hindi Translation: पुलिस भी दल-बल के साथ उस जगह के लिए रवाना हो गई.\n",
            "Hindi Prediction: इुलिस की कि्  ाके सेथ कनेका  हि लिए हहाद  कै हा \n",
            "Evaluation translation (should we go to the mall?) : ('क्या क्या क्या है?<END>',)\n",
            "-------------------------------------------\n",
            "Iteration 500 : 2.220067262649536\n",
            "English: should education be perceived to be employment oriented?\n",
            "Hindi Translation: क्या यह जरूरी है कि शिक्षा ही रोजगारपरक हो?\n",
            "Hindi Prediction: क्या कह का्   कै केसकाराषा कै कहग      ाकैग\n",
            "Evaluation translation (should we go to the mall?) : ('क्या क्या क्या है?<END>',)\n",
            "-------------------------------------------\n",
            "Iteration 600 : 2.1572375297546387\n",
            "English: india immediately rejected trumps assertion.\n",
            "Hindi Translation: भारत ने ट्रम्प के इस दावे को नकार दिया है.\n",
            "Hindi Prediction: इारतीमे कररि माका पसककिंाशकी रिी  हिया है.\n",
            "Evaluation translation (should we go to the mall?) : ('क्या क्या क्या है?<END>',)\n",
            "-------------------------------------------\n",
            "Iteration 700 : 2.1545021533966064\n",
            "English: ajit pawar was blackmailed into joining hands with bjp: raut\n",
            "Hindi Translation: भाजपा से हाथ मिलाने के लिये अजित पवार को ब्लैकमेल किया गया: राउत\n",
            "Hindi Prediction: पारपी क् कान केला   के सिएा कपालाक्ार के माराक    केया कईा\n",
            "Evaluation translation (should we go to the mall?) : ('क्या है क्या है क्या है?<END>',)\n",
            "-------------------------------------------\n",
            "Iteration 800 : 2.070129156112671\n",
            "English: anjuta plugins\n",
            "Hindi Translation: अंजूटा\n",
            "Hindi Prediction: सनतेट  रककरकपरपरररकसरकककपकररपररसररसकससपसरररपकरकरकरपरररररररररररररररपरररररररसपरपरररकररररपतरररसरपककरकककककककरररररसकपकककससरसरकपपरपकककरकपसपककरससरपपसरपरससकससससकरपरसकपससपसकससकरकककपपककरकससकपककसपरकपकरकससरररसरकर\n",
            "Evaluation translation (should we go to the mall?) : ('क्या है क्या है?<END>',)\n",
            "-------------------------------------------\n",
            "Epoch 7\n",
            "Iteration 0 : 2.134037971496582\n",
            "English: in reply, pakistan got off to a solid start.\n",
            "Hindi Translation: जिसके जवाब में पाक ने अच्छी शुरुआत की थी.\n",
            "Hindi Prediction: इिनेा साान कें कनराकह सप्र  हुर्पई हर हा.\n",
            "Evaluation translation (should we go to the mall?) : ('क्या क्या क्या है?<END>',)\n",
            "-------------------------------------------\n",
            "Iteration 100 : 2.1668217182159424\n",
            "English: similarly, infrastructure -\n",
            "Hindi Translation: इसी तरह, बुनियादी सुविधाएँ,\n",
            "Hindi Prediction: मस एकर्  कालायां  कंराकानं\n",
            "Evaluation translation (should we go to the mall?) : ('क्या क्या है क्या है?<END>',)\n",
            "-------------------------------------------\n",
            "Iteration 200 : 2.202059507369995\n",
            "English: 46,963 new confirmed cases were recorded in the last 24 hours\n",
            "Hindi Translation: पिछले 24 घंटों में यहां 5,018 नए मामले सामने आए\n",
            "Hindi Prediction: प्छा  क0 काध र कें कू   क0    के केमले मेमाा कईसरकरपररररररररररकररररररररररररंपररकरररररपपरकरपतपककरसपरकररपपकपररररतरकककररपसरएरपकरकरकककएपपपरपपससपएपपएएपपसपरसरसपररपरसरतरपसएपकसररपएकररपरपपपपपपपरररकरककररसररररकर\n",
            "Evaluation translation (should we go to the mall?) : ('क्या है क्या है है?<END>',)\n",
            "-------------------------------------------\n",
            "Iteration 300 : 2.169133424758911\n",
            "English: pov - ray 3. 5 objects\n",
            "Hindi Translation: पोव-रे 3.5 वस्तुएँ\n",
            "Hindi Prediction: प्रा ् क   का्तिरम एकरककपककएककसरररससससपरंररपपपपपररपररररररररररररररररररररररपसररररररसरररररपपपपरपकसकपककककककपकपककततरपककककरकसरपपरपपपकररपपपसकपसरलपपएरपरसएपएसरकपपकररसपससपपपसपसकसककककएपककरपकपपपपररकपरककदरसररररररर\n",
            "Evaluation translation (should we go to the mall?) : ('क्या क्या क्या है?<END>',)\n",
            "-------------------------------------------\n",
            "Iteration 400 : 2.199472665786743\n",
            "English: the police also reached the spot with its team.\n",
            "Hindi Translation: पुलिस भी दल-बल के साथ उस जगह के लिए रवाना हो गई.\n",
            "Hindi Prediction: इुलिस की कि् ा के लेथ कनककालतहर लिए हहाल  है हि \n",
            "Evaluation translation (should we go to the mall?) : ('क्या क्या क्या है?<END>',)\n",
            "-------------------------------------------\n",
            "Iteration 500 : 2.146092176437378\n",
            "English: should education be perceived to be employment oriented?\n",
            "Hindi Translation: क्या यह जरूरी है कि शिक्षा ही रोजगारपरक हो?\n",
            "Hindi Prediction: क्या कह का्   कै कि साराष् कै हहगन   त ाकै \n",
            "Evaluation translation (should we go to the mall?) : ('क्या है क्या है क्या है?<END>',)\n",
            "-------------------------------------------\n",
            "Iteration 600 : 2.0941319465637207\n",
            "English: india immediately rejected trumps assertion.\n",
            "Hindi Translation: भारत ने ट्रम्प के इस दावे को नकार दिया है.\n",
            "Hindi Prediction: इारत मे कीराामतमा लसककिरादके ले्र केया है.\n",
            "Evaluation translation (should we go to the mall?) : ('क्या क्या क्या है?<END>',)\n",
            "-------------------------------------------\n",
            "Iteration 700 : 2.1138741970062256\n",
            "English: ajit pawar was blackmailed into joining hands with bjp: raut\n",
            "Hindi Translation: भाजपा से हाथ मिलाने के लिये अजित पवार को ब्लैकमेल किया गया: राउत\n",
            "Hindi Prediction: मारपी क् का  केला   के सिएा कमबल क्ार के काराक    कीया\n",
            "Evaluation translation (should we go to the mall?) : ('क्या क्या है क्या है?<END>',)\n",
            "-------------------------------------------\n",
            "Iteration 800 : 2.0327799320220947\n",
            "English: anjuta plugins\n",
            "Hindi Translation: अंजूटा\n",
            "Hindi Prediction: पमते ी पसपपपरपररसपपसपररकककपककसससरपसपएससरसपरंपपंपररररसपपररररपररपररररररसरपपसपपरररपरररररपरपसपरपससतकसपकरपररदससरररंपसपपदपदरसपपपपपपससरररपसपपसकससपपपससपससपकसपसससपपसपसससदसपरसपससससकपसरपसपपकरपरपपरपरकरसससरकसररररक\n",
            "Evaluation translation (should we go to the mall?) : ('क्या है क्या क्या है?<END>',)\n",
            "-------------------------------------------\n",
            "Epoch 8\n",
            "Iteration 0 : 2.0763492584228516\n",
            "English: in reply, pakistan got off to a solid start.\n",
            "Hindi Translation: जिसके जवाब में पाक ने अच्छी शुरुआत की थी.\n",
            "Hindi Prediction: इबनेे मााल कें करसाकि सप्छा कारूप  हि हा.\n",
            "Evaluation translation (should we go to the mall?) : ('क्या क्या क्या क्या है?<END>',)\n",
            "-------------------------------------------\n",
            "Iteration 100 : 2.0852510929107666\n",
            "English: similarly, infrastructure -\n",
            "Hindi Translation: इसी तरह, बुनियादी सुविधाएँ,\n",
            "Hindi Prediction: सस  कर्  मालाया   केराकानं\n",
            "Evaluation translation (should we go to the mall?) : ('क्या क्या क्या है?<END>',)\n",
            "-------------------------------------------\n",
            "Iteration 200 : 2.1332006454467773\n",
            "English: 46,963 new confirmed cases were recorded in the last 24 hours\n",
            "Hindi Translation: पिछले 24 घंटों में यहां 5,018 नए मामले सामने आए\n",
            "Hindi Prediction: प्छले म0 मटड   कें कुा  क   9 के केमले केमाे कप कपपसपकपरपररपपररररपपपरररपसपपरपरपरररपररसपपपपपपपपससपपपररपपपपपसरपससपपसपकपपसपसपपसपपपककसपपपएससपपपतपपपकससकसतसएससपपपसससपसपपपपपपएकसससससससरपपपपपपसररपससकरसकरपरसससस\n",
            "Evaluation translation (should we go to the mall?) : ('क्या है क्या है?<END>',)\n",
            "-------------------------------------------\n",
            "Iteration 300 : 2.1391408443450928\n",
            "English: pov - ray 3. 5 objects\n",
            "Hindi Translation: पोव-रे 3.5 वस्तुएँ\n",
            "Hindi Prediction: प्रा ् क   कि्तारं रपपकसपपककरपसससपसररपपपपरपपपपसरपपपपपरसरररररररपपरररपरररपपरपपपरररकसपसरररपपपपपपतपकसपपसतरपपसकपपरपपपपपकसतपसपसपपपपकपकपपपकपसपपपपसपपपपपरपरपपपसपपपरपपसपपसकपकससपकसपससकपसरपरपसपकपससपपपपहसरसससररकरर\n",
            "Evaluation translation (should we go to the mall?) : ('क्या क्या क्या है?<END>',)\n",
            "-------------------------------------------\n",
            "Iteration 400 : 2.1051762104034424\n",
            "English: the police also reached the spot with its team.\n",
            "Hindi Translation: पुलिस भी दल-बल के साथ उस जगह के लिए रवाना हो गई.\n",
            "Hindi Prediction: इ्लिस की को्बााको ल्थ कसककाह हर लिए हहार  कै हय.\n",
            "Evaluation translation (should we go to the mall?) : ('क्या क्या क्या है?<END>',)\n",
            "-------------------------------------------\n",
            "Iteration 500 : 2.083909749984741\n",
            "English: should education be perceived to be employment oriented?\n",
            "Hindi Translation: क्या यह जरूरी है कि शिक्षा ही रोजगारपरक हो?\n",
            "Hindi Prediction: क्या कह काूर  कै कि सुर्षा कोंकहगन      को \n",
            "Evaluation translation (should we go to the mall?) : ('क्या है क्या है क्या है?<END>',)\n",
            "-------------------------------------------\n",
            "Iteration 600 : 2.037008762359619\n",
            "English: india immediately rejected trumps assertion.\n",
            "Hindi Translation: भारत ने ट्रम्प के इस दावे को नकार दिया है.\n",
            "Hindi Prediction: पारतीके कीरीामतके लस मियाशके लितर्हिया है.\n",
            "Evaluation translation (should we go to the mall?) : ('क्या क्या क्या है?<END>',)\n",
            "-------------------------------------------\n",
            "Iteration 700 : 2.040121555328369\n",
            "English: ajit pawar was blackmailed into joining hands with bjp: raut\n",
            "Hindi Translation: भाजपा से हाथ मिलाने के लिये अजित पवार को ब्लैकमेल किया गया: राउत\n",
            "Hindi Prediction: सारपा के काल केलाफ  के बिएा कनाल करार के साराक  ट कीना होा  हाजन रपरररररपपपररररररकररररररपपपपपपरपकपकरसपपससररररसपपपपदसरपरसपपररककपपकपककपपपपपकपररसपसकककसपपससपसरपपपसकपपकपपसरसरपपसरककररकपपपरससरपसररकरररपरररररर\n",
            "Evaluation translation (should we go to the mall?) : ('क्या क्या है क्या है?<END>',)\n",
            "-------------------------------------------\n",
            "Iteration 800 : 1.9490886926651\n",
            "English: anjuta plugins\n",
            "Hindi Translation: अंजूटा\n",
            "Hindi Prediction: समतेरी पपपपपपपंपपरसपपपपपकपकपपससपरपपपपसससपपपपपपरपपपरपपपपररररपपपररपपपरपररपपपपरपपरसपरररपरपपरपपपसपपपपपसकसपससपपसकरपपपपसदपपसपपकपपपपपपपकपसकपपसपपपतपपपपपपपससपपससपपपसससपपपपससपपपपससपपपपपरसपदपपसपपपपपपररसरसपपपररसप\n",
            "Evaluation translation (should we go to the mall?) : ('क्या क्या है क्या है?<END>',)\n",
            "-------------------------------------------\n",
            "Epoch 9\n",
            "Iteration 0 : 1.9958703517913818\n",
            "English: in reply, pakistan got off to a solid start.\n",
            "Hindi Translation: जिसके जवाब में पाक ने अच्छी शुरुआत की थी.\n",
            "Hindi Prediction: इिसीा सााल कें क्र्कि बप्छ  कारूआ  हि ही.\n",
            "Evaluation translation (should we go to the mall?) : ('क्या क्या क्या है?<END>',)\n",
            "-------------------------------------------\n",
            "Iteration 100 : 2.0219013690948486\n",
            "English: similarly, infrastructure -\n",
            "Hindi Translation: इसी तरह, बुनियादी सुविधाएँ,\n",
            "Hindi Prediction: मस  कर्  मालाया   केराधानँ\n",
            "Evaluation translation (should we go to the mall?) : ('क्या क्या क्या है?<END>',)\n",
            "-------------------------------------------\n",
            "Iteration 200 : 2.0925838947296143\n",
            "English: 46,963 new confirmed cases were recorded in the last 24 hours\n",
            "Hindi Translation: पिछले 24 घंटों में यहां 5,018 नए मामले सामने आए\n",
            "Hindi Prediction: पुछले म0 काट   कें कह   क     के केमले केथाे कईसकपपपपपररपकरपपपपरररपपपपपपरपपपपपपररकररररपपपपपपपपकपपपपकपपपपपपकपपपकपतपपपसससपरपपदककपकपपसपककपपपपपपसपपपपपकपसपसपकपपसपपपसपकपपससपपपपपपसपपरपपपपपपपपसपपहपकसपसपपररररर\n",
            "Evaluation translation (should we go to the mall?) : ('क्या है क्या है?<END>',)\n",
            "-------------------------------------------\n",
            "Iteration 300 : 2.089048385620117\n",
            "English: pov - ray 3. 5 objects\n",
            "Hindi Translation: पोव-रे 3.5 वस्तुएँ\n",
            "Hindi Prediction: पुराक् क   कि्यि ं\n",
            "Evaluation translation (should we go to the mall?) : ('क्या क्या क्या क्या है?<END>',)\n",
            "-------------------------------------------\n",
            "Iteration 400 : 2.051945447921753\n",
            "English: the police also reached the spot with its team.\n",
            "Hindi Translation: पुलिस भी दल-बल के साथ उस जगह के लिए रवाना हो गई.\n",
            "Hindi Prediction: इुलिस की कि्बााको लाथ कसकपाा कि सिए जहास  कै हय.\n",
            "Evaluation translation (should we go to the mall?) : ('क्या क्या क्या है?<END>',)\n",
            "-------------------------------------------\n",
            "Iteration 500 : 2.0296578407287598\n",
            "English: should education be perceived to be employment oriented?\n",
            "Hindi Translation: क्या यह जरूरी है कि शिक्षा ही रोजगारपरक हो?\n",
            "Hindi Prediction: क्या कह काून  कै क् कुकाषा को हहगन    ् कै \n",
            "Evaluation translation (should we go to the mall?) : ('क्या है क्या है क्या है?<END>',)\n",
            "-------------------------------------------\n",
            "Iteration 600 : 1.987847924232483\n",
            "English: india immediately rejected trumps assertion.\n",
            "Hindi Translation: भारत ने ट्रम्प के इस दावे को नकार दिया है.\n",
            "Hindi Prediction: सारतीके कीरीामतके पसकपलराशकी केी ्हिया है.\n",
            "Evaluation translation (should we go to the mall?) : ('क्या क्या क्या है?<END>',)\n",
            "-------------------------------------------\n",
            "Iteration 700 : 2.013272523880005\n",
            "English: ajit pawar was blackmailed into joining hands with bjp: raut\n",
            "Hindi Translation: भाजपा से हाथ मिलाने के लिये अजित पवार को ब्लैकमेल किया गया: राउत\n",
            "Hindi Prediction: सारपा के काल केला   के सिएा कपबसाक्ाल के सालां  ं काया हिा  काजप पसपपरररपरपपरपदपररपररपरररसपपसससपरकपककपसपसपससपरकरपकदससरससपससपकदररसककपकपपपसपसपसपपकससकसयसससपरसससपससपपससपपपसपपसपसकससरपपपकरसससससककरससहहरररररर\n",
            "Evaluation translation (should we go to the mall?) : ('क्या है क्या है क्या है?<END>',)\n",
            "-------------------------------------------\n",
            "Iteration 800 : 1.8961074352264404\n",
            "English: anjuta plugins\n",
            "Hindi Translation: अंजूटा\n",
            "Hindi Prediction: पमतारी पपपपपपपपरपपरपपपपपककपपपरपरररपपपरपपपपपपपपपपपपपपरपरररकपपररपरपपरपररपपपररपसरररररपपररररपपपपपपपपपपपपतररपपपपसपपरपपपपपपपकपपपपपरपपरपपपकपपपपपसपकपपपपरकसकसपससकसपररपपपपकससपपपपपरपपपपपकरदपपपपपपपकररकरससकररससररर\n",
            "Evaluation translation (should we go to the mall?) : ('क्या क्या क्या है?<END>',)\n",
            "-------------------------------------------\n"
          ]
        }
      ],
      "source": [
        "transformer.train()\n",
        "transformer.to(device)\n",
        "total_loss = 0\n",
        "num_epochs = 10\n",
        "\n",
        "for epoch in range(num_epochs):\n",
        "    print(f\"Epoch {epoch}\")\n",
        "    iterator = iter(train_loader)\n",
        "    for batch_num, batch in enumerate(iterator):\n",
        "        transformer.train()\n",
        "        eng_batch, hi_batch = batch\n",
        "        encoder_self_attention_mask, decoder_self_attention_mask, decoder_cross_attention_mask = create_masks(eng_batch, hi_batch)\n",
        "        optim.zero_grad()\n",
        "        hi_predictions = transformer(eng_batch,\n",
        "                                     hi_batch,\n",
        "                                     encoder_self_attention_mask.to(device),\n",
        "                                     decoder_self_attention_mask.to(device),\n",
        "                                     decoder_cross_attention_mask.to(device),\n",
        "                                     enc_start_token=False,\n",
        "                                     enc_end_token=False,\n",
        "                                     dec_start_token=True,\n",
        "                                     dec_end_token=True)\n",
        "        labels = transformer.decoder.sentence_embedding.batch_tokenize(hi_batch, start_token=False, end_token=True)\n",
        "        loss = criterian(\n",
        "            hi_predictions.view(-1, hi_vocab_size).to(device),\n",
        "            labels.view(-1).to(device)\n",
        "        ).to(device)\n",
        "        valid_indicies = torch.where(labels.view(-1) == hindi_to_index[PADDING_TOKEN], False, True)\n",
        "        loss = loss.sum() / valid_indicies.sum()\n",
        "        loss.backward()\n",
        "        optim.step()\n",
        "        if batch_num % 100 == 0:\n",
        "            print(f\"Iteration {batch_num} : {loss.item()}\")\n",
        "            print(f\"English: {eng_batch[0]}\")\n",
        "            print(f\"Hindi Translation: {hi_batch[0]}\")\n",
        "            hi_sentence_predicted = torch.argmax(hi_predictions[0], axis=1)\n",
        "            predicted_sentence = \"\"\n",
        "            for idx in hi_sentence_predicted:\n",
        "              if idx == hindi_to_index[END_TOKEN]:\n",
        "                break\n",
        "              predicted_sentence += index_to_hindi[idx.item()]\n",
        "            print(f\"Hindi Prediction: {predicted_sentence}\")\n",
        "\n",
        "\n",
        "            transformer.eval()\n",
        "            hi_sentence = (\"\",)\n",
        "            eng_sentence = (\"should we go to the mall?\",)\n",
        "            for word_counter in range(max_sequence_length):\n",
        "                encoder_self_attention_mask, decoder_self_attention_mask, decoder_cross_attention_mask= create_masks(eng_sentence, hi_sentence)\n",
        "                predictions = transformer(eng_sentence,\n",
        "                                          hi_sentence,\n",
        "                                          encoder_self_attention_mask.to(device),\n",
        "                                          decoder_self_attention_mask.to(device),\n",
        "                                          decoder_cross_attention_mask.to(device),\n",
        "                                          enc_start_token=False,\n",
        "                                          enc_end_token=False,\n",
        "                                          dec_start_token=True,\n",
        "                                          dec_end_token=False)\n",
        "                next_token_prob_distribution = predictions[0][word_counter] # not actual probs\n",
        "                next_token_index = torch.argmax(next_token_prob_distribution).item()\n",
        "                next_token = index_to_hindi[next_token_index]\n",
        "                hi_sentence = (hi_sentence[0] + next_token, )\n",
        "                if next_token == END_TOKEN:\n",
        "                  break\n",
        "\n",
        "            print(f\"Evaluation translation (should we go to the mall?) : {hi_sentence}\")\n",
        "            print(\"-------------------------------------------\")"
      ]
    },
    {
      "cell_type": "code",
      "execution_count": 25,
      "id": "51a9907a",
      "metadata": {
        "id": "51a9907a"
      },
      "outputs": [],
      "source": [
        "transformer.eval()\n",
        "def translate(eng_sentence):\n",
        "  eng_sentence = (eng_sentence,)\n",
        "  hi_sentence = (\"\",)\n",
        "  for word_counter in range(max_sequence_length):\n",
        "    encoder_self_attention_mask, decoder_self_attention_mask, decoder_cross_attention_mask= create_masks(eng_sentence, hi_sentence)\n",
        "    predictions = transformer(eng_sentence,\n",
        "                              hi_sentence,\n",
        "                              encoder_self_attention_mask.to(device),\n",
        "                              decoder_self_attention_mask.to(device),\n",
        "                              decoder_cross_attention_mask.to(device),\n",
        "                              enc_start_token=False,\n",
        "                              enc_end_token=False,\n",
        "                              dec_start_token=True,\n",
        "                              dec_end_token=False)\n",
        "    next_token_prob_distribution = predictions[0][word_counter]\n",
        "    next_token_index = torch.argmax(next_token_prob_distribution).item()\n",
        "    next_token = index_to_hindi[next_token_index]\n",
        "    hi_sentence = (hi_sentence[0] + next_token, )\n",
        "    if next_token == END_TOKEN:\n",
        "      break\n",
        "  return hi_sentence[0]"
      ]
    },
    {
      "cell_type": "code",
      "source": [
        "translation = translate(\"what should we do when the day starts?\")\n",
        "print(translation)\n",
        "#क्या करना चाहिए दिन की शुरुआत में हमें?"
      ],
      "metadata": {
        "colab": {
          "base_uri": "https://localhost:8080/"
        },
        "id": "DHXTJTpE-lDO",
        "outputId": "79e02d18-e69b-4323-91c1-ab32e2657f1d"
      },
      "id": "DHXTJTpE-lDO",
      "execution_count": 26,
      "outputs": [
        {
          "output_type": "stream",
          "name": "stdout",
          "text": [
            "क्या क्या क्या कि क्या क्या है?<END>\n"
          ]
        }
      ]
    },
    {
      "cell_type": "code",
      "source": [
        "translation = translate(\"why did they do this?\")\n",
        "print(translation)\n",
        "#ऐसा क्यों किया?"
      ],
      "metadata": {
        "colab": {
          "base_uri": "https://localhost:8080/"
        },
        "id": "LMziYU9K-oTf",
        "outputId": "eaf43ddb-ce4a-408b-e4e8-eb69b2afe172"
      },
      "id": "LMziYU9K-oTf",
      "execution_count": 31,
      "outputs": [
        {
          "output_type": "stream",
          "name": "stdout",
          "text": [
            "क्या क्या क्या है?<END>\n"
          ]
        }
      ]
    },
    {
      "cell_type": "code",
      "source": [
        "translation = translate(\"click this\")\n",
        "print(translation)\n",
        "#almost similar. it says press"
      ],
      "metadata": {
        "colab": {
          "base_uri": "https://localhost:8080/"
        },
        "id": "qbPm5ZFz_RkN",
        "outputId": "be9cb1bd-c295-4f9f-ef06-a098b5bd09b5"
      },
      "id": "qbPm5ZFz_RkN",
      "execution_count": 33,
      "outputs": [
        {
          "output_type": "stream",
          "name": "stdout",
          "text": [
            "प्रास<END>\n"
          ]
        }
      ]
    },
    {
      "cell_type": "code",
      "source": [
        "translation = translate(\"my name is singh\")\n",
        "print(translation)"
      ],
      "metadata": {
        "colab": {
          "base_uri": "https://localhost:8080/"
        },
        "id": "0byxUUfK_qtv",
        "outputId": "d53d1b45-e83e-48c2-bb62-08d734362997"
      },
      "id": "0byxUUfK_qtv",
      "execution_count": 38,
      "outputs": [
        {
          "output_type": "stream",
          "name": "stdout",
          "text": [
            "मैं कि बात किया हैं<END>\n"
          ]
        }
      ]
    },
    {
      "cell_type": "markdown",
      "source": [
        "<h3>Insights</h3>\n",
        "\n",
        "*   Using word-based or BPE based tokenizations may help. Also, we will get valid word (or BPE) units if we do so.\n",
        "*   Make sure the training set has a large variety of sentences that are not just about one topic like \"work\" and \"government\".\n",
        "*   Increase the number of encoder / decoder units for better translations. It was set to the minimum of 1 of each unit here.\n",
        "  \n",
        "Overall this model definitely learnt something even though the output may not be always accurate.\n"
      ],
      "metadata": {
        "id": "e-67wcfNA_FP"
      },
      "id": "e-67wcfNA_FP"
    }
  ],
  "metadata": {
    "kernelspec": {
      "display_name": "Python 3",
      "name": "python3"
    },
    "language_info": {
      "codemirror_mode": {
        "name": "ipython",
        "version": 3
      },
      "file_extension": ".py",
      "mimetype": "text/x-python",
      "name": "python",
      "nbconvert_exporter": "python",
      "pygments_lexer": "ipython3",
      "version": "3.12.3"
    },
    "colab": {
      "provenance": [],
      "gpuType": "T4",
      "include_colab_link": true
    },
    "accelerator": "GPU"
  },
  "nbformat": 4,
  "nbformat_minor": 5
}